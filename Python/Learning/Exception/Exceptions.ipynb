{
 "cells": [
  {
   "cell_type": "markdown",
   "id": "21706a48-66dd-4ba6-b647-45311a286143",
   "metadata": {},
   "source": [
    "# Exceptions"
   ]
  },
  {
   "cell_type": "code",
   "execution_count": 1,
   "id": "df701255-108b-47a0-96b6-e35798d8ad96",
   "metadata": {},
   "outputs": [
    {
     "data": {
      "text/plain": [
       "2.0"
      ]
     },
     "execution_count": 1,
     "metadata": {},
     "output_type": "execute_result"
    }
   ],
   "source": [
    "10/5"
   ]
  },
  {
   "cell_type": "code",
   "execution_count": 3,
   "id": "abf690cd-20cb-4859-968f-403cedb473bd",
   "metadata": {},
   "outputs": [
    {
     "ename": "ZeroDivisionError",
     "evalue": "division by zero",
     "output_type": "error",
     "traceback": [
      "\u001b[0;31m---------------------------------------------------------------------------\u001b[0m",
      "\u001b[0;31mZeroDivisionError\u001b[0m                         Traceback (most recent call last)",
      "Cell \u001b[0;32mIn[3], line 1\u001b[0m\n\u001b[0;32m----> 1\u001b[0m \u001b[38;5;241;43m10\u001b[39;49m\u001b[38;5;241;43m/\u001b[39;49m\u001b[38;5;241;43m0\u001b[39;49m\n",
      "\u001b[0;31mZeroDivisionError\u001b[0m: division by zero"
     ]
    }
   ],
   "source": [
    "10/0"
   ]
  },
  {
   "cell_type": "code",
   "execution_count": 6,
   "id": "e329203d-a1cb-480c-baa8-fb619b8b0ca2",
   "metadata": {},
   "outputs": [
    {
     "name": "stdout",
     "output_type": "stream",
     "text": [
      "we are getting division by zero\n"
     ]
    }
   ],
   "source": [
    "try:\n",
    "    10/0\n",
    "except Exception as e:\n",
    "    print('we are getting',e)"
   ]
  },
  {
   "cell_type": "code",
   "execution_count": 7,
   "id": "1f3ceece-2cad-47a3-9c25-5141eaa7ec7a",
   "metadata": {},
   "outputs": [
    {
     "name": "stdout",
     "output_type": "stream",
     "text": [
      "division by zero\n"
     ]
    }
   ],
   "source": [
    "try:\n",
    "    10/0\n",
    "except ZeroDivisionError as zero:\n",
    "    print(zero)"
   ]
  },
  {
   "cell_type": "code",
   "execution_count": 8,
   "id": "8f8257a6-85c5-4bb1-9dfd-8add214e7d05",
   "metadata": {},
   "outputs": [
    {
     "ename": "NameError",
     "evalue": "name 'testing' is not defined",
     "output_type": "error",
     "traceback": [
      "\u001b[0;31m---------------------------------------------------------------------------\u001b[0m",
      "\u001b[0;31mZeroDivisionError\u001b[0m                         Traceback (most recent call last)",
      "Cell \u001b[0;32mIn[8], line 2\u001b[0m\n\u001b[1;32m      1\u001b[0m \u001b[38;5;28;01mtry\u001b[39;00m:\n\u001b[0;32m----> 2\u001b[0m     \u001b[38;5;241;43m10\u001b[39;49m\u001b[38;5;241;43m/\u001b[39;49m\u001b[38;5;241;43m0\u001b[39;49m\n\u001b[1;32m      3\u001b[0m \u001b[38;5;28;01mexcept\u001b[39;00m testing:\n",
      "\u001b[0;31mZeroDivisionError\u001b[0m: division by zero",
      "\nDuring handling of the above exception, another exception occurred:\n",
      "\u001b[0;31mNameError\u001b[0m                                 Traceback (most recent call last)",
      "Cell \u001b[0;32mIn[8], line 3\u001b[0m\n\u001b[1;32m      1\u001b[0m \u001b[38;5;28;01mtry\u001b[39;00m:\n\u001b[1;32m      2\u001b[0m     \u001b[38;5;241m10\u001b[39m\u001b[38;5;241m/\u001b[39m\u001b[38;5;241m0\u001b[39m\n\u001b[0;32m----> 3\u001b[0m \u001b[38;5;28;01mexcept\u001b[39;00m \u001b[43mtesting\u001b[49m:\n\u001b[1;32m      4\u001b[0m     \u001b[38;5;28mprint\u001b[39m(\u001b[38;5;124m\"\u001b[39m\u001b[38;5;124mtesting\u001b[39m\u001b[38;5;124m\"\u001b[39m)\n",
      "\u001b[0;31mNameError\u001b[0m: name 'testing' is not defined"
     ]
    }
   ],
   "source": [
    "try:\n",
    "    10/0\n",
    "except testing:\n",
    "    print(\"testing\")"
   ]
  },
  {
   "cell_type": "code",
   "execution_count": 12,
   "id": "f183909b-dade-40a5-828c-11dbae137b93",
   "metadata": {},
   "outputs": [
    {
     "name": "stdin",
     "output_type": "stream",
     "text": [
      "Enter age goudha\n"
     ]
    },
    {
     "ename": "ValueError",
     "evalue": "invalid literal for int() with base 10: 'goudha'",
     "output_type": "error",
     "traceback": [
      "\u001b[0;31m---------------------------------------------------------------------------\u001b[0m",
      "\u001b[0;31mValueError\u001b[0m                                Traceback (most recent call last)",
      "Cell \u001b[0;32mIn[12], line 1\u001b[0m\n\u001b[0;32m----> 1\u001b[0m age \u001b[38;5;241m=\u001b[39m \u001b[38;5;28;43mint\u001b[39;49m\u001b[43m(\u001b[49m\u001b[38;5;28;43minput\u001b[39;49m\u001b[43m(\u001b[49m\u001b[38;5;124;43m\"\u001b[39;49m\u001b[38;5;124;43mEnter age\u001b[39;49m\u001b[38;5;124;43m\"\u001b[39;49m\u001b[43m)\u001b[49m\u001b[43m)\u001b[49m\n\u001b[1;32m      2\u001b[0m \u001b[38;5;28mprint\u001b[39m(\u001b[38;5;124m\"\u001b[39m\u001b[38;5;124myour birth year is \u001b[39m\u001b[38;5;124m\"\u001b[39m, \u001b[38;5;241m2024\u001b[39m\u001b[38;5;241m-\u001b[39mage)\n",
      "\u001b[0;31mValueError\u001b[0m: invalid literal for int() with base 10: 'goudha'"
     ]
    }
   ],
   "source": [
    "age = int(input(\"Enter age\"))\n",
    "print(\"your birth year is \", 2024-age)"
   ]
  },
  {
   "cell_type": "code",
   "execution_count": 20,
   "id": "e1d119b1-021f-4ae8-b9ce-71265c6b95b3",
   "metadata": {},
   "outputs": [
    {
     "name": "stdin",
     "output_type": "stream",
     "text": [
      "Enter age -10\n"
     ]
    },
    {
     "name": "stdout",
     "output_type": "stream",
     "text": [
      "Age can't be negative\n"
     ]
    }
   ],
   "source": [
    "try:\n",
    "    age = int(input(\"Enter age\"))\n",
    "    if age < 0:\n",
    "        raise ZeroDivisionError(\"Age can't be negative\")\n",
    "except ValueError as v:\n",
    "    print(\"only integer is allowed\")\n",
    "except ZeroDivisionError as z:\n",
    "    print(z)\n",
    "else:\n",
    "    print(\"your birth year is \", 2024-age)"
   ]
  },
  {
   "cell_type": "code",
   "execution_count": 22,
   "id": "abf75c65-1219-4d93-9e89-01ac75efd6e7",
   "metadata": {},
   "outputs": [
    {
     "name": "stdin",
     "output_type": "stream",
     "text": [
      "Enter age 20\n"
     ]
    },
    {
     "name": "stdout",
     "output_type": "stream",
     "text": [
      "your birth year is  2004\n"
     ]
    }
   ],
   "source": [
    "try:\n",
    "    age = int(input(\"Enter age\"))\n",
    "    if age < 0:\n",
    "        raise ZeroDivisionError(\"Age can't be negative\")\n",
    "except (ValueError,ZeroDivisionError):\n",
    "    print(\"only integer is allowed\")\n",
    "else:\n",
    "    print(\"your birth year is \", 2024-age)"
   ]
  },
  {
   "cell_type": "code",
   "execution_count": 29,
   "id": "2bf30cf0-ac4b-41ae-bca9-bdb2cb6ffd79",
   "metadata": {},
   "outputs": [
    {
     "name": "stdout",
     "output_type": "stream",
     "text": [
      "test\n"
     ]
    }
   ],
   "source": [
    "try:\n",
    "    f = open(\"text.txt\")    \n",
    "except FileNotFoundError as fileError:\n",
    "    print(fileError)\n",
    "    f = open(\"text.txt\",mode='w')\n",
    "    f.write(\"test\")\n",
    "else:\n",
    "    print(f.read())\n",
    "finally:\n",
    "    f.close()"
   ]
  },
  {
   "cell_type": "code",
   "execution_count": 44,
   "id": "240d43af-477c-498d-97e4-f996332906aa",
   "metadata": {},
   "outputs": [
    {
     "name": "stdin",
     "output_type": "stream",
     "text": [
      "Enter age 36\n"
     ]
    },
    {
     "name": "stdout",
     "output_type": "stream",
     "text": [
      "your birth year is  1988\n"
     ]
    }
   ],
   "source": [
    "class NonNegative(Exception):\n",
    "    \n",
    "    def __init__(self,age,message=\"negative\"):\n",
    "        self.age = age\n",
    "        self.message = message\n",
    "        super().__init__(self.message)\n",
    "try:\n",
    "    age = int(input(\"Enter age\"))\n",
    "    if age < 0:\n",
    "        raise NonNegative(age)\n",
    "except (ValueError,ZeroDivisionError):\n",
    "    print(\"only integer is allowed\")\n",
    "except Exception as e:\n",
    "    print(e)\n",
    "else:\n",
    "    print(\"your birth year is \", 2024-age)"
   ]
  },
  {
   "cell_type": "code",
   "execution_count": null,
   "id": "f4b39a56-664a-42f2-834e-0eb6783bda0f",
   "metadata": {},
   "outputs": [],
   "source": []
  }
 ],
 "metadata": {
  "kernelspec": {
   "display_name": "Python 3 (ipykernel)",
   "language": "python",
   "name": "python3"
  },
  "language_info": {
   "codemirror_mode": {
    "name": "ipython",
    "version": 3
   },
   "file_extension": ".py",
   "mimetype": "text/x-python",
   "name": "python",
   "nbconvert_exporter": "python",
   "pygments_lexer": "ipython3",
   "version": "3.10.8"
  }
 },
 "nbformat": 4,
 "nbformat_minor": 5
}
