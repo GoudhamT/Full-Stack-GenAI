{
  "nbformat": 4,
  "nbformat_minor": 0,
  "metadata": {
    "colab": {
      "provenance": []
    },
    "kernelspec": {
      "name": "python3",
      "display_name": "Python 3"
    },
    "language_info": {
      "name": "python"
    }
  },
  "cells": [
    {
      "cell_type": "code",
      "execution_count": null,
      "metadata": {
        "id": "5YIlzMquMkhj"
      },
      "outputs": [],
      "source": [
        "class Person:\n",
        "\n",
        "  def __init__(gt):\n",
        "    gt.name = 'goudham'\n",
        "    gt.country = 'Canada'\n",
        "\n",
        "  def greeting(gt):\n",
        "    if gt.country == 'Canada':\n",
        "      print(f'Vanakkam{gt.name}')\n"
      ]
    },
    {
      "cell_type": "code",
      "source": [
        "p = Person()"
      ],
      "metadata": {
        "id": "iBO8lfVjNyz7"
      },
      "execution_count": null,
      "outputs": []
    },
    {
      "cell_type": "code",
      "source": [
        "p.greeting()"
      ],
      "metadata": {
        "colab": {
          "base_uri": "https://localhost:8080/"
        },
        "id": "6BkfUsh8N9JY",
        "outputId": "eeb541ab-e964-447d-f3ee-84d5993c15dc"
      },
      "execution_count": null,
      "outputs": [
        {
          "output_type": "stream",
          "name": "stdout",
          "text": [
            "Vanakkamgoudham\n"
          ]
        }
      ]
    },
    {
      "cell_type": "code",
      "source": [
        "class Person:\n",
        "\n",
        "  def __init__(self,name,country):\n",
        "    self.name = name\n",
        "    self.country = country\n",
        "\n",
        "  def greeting(self):\n",
        "    if self.country == 'India':\n",
        "      print(f'Vanakam {self.name}')\n",
        "    else:\n",
        "      print(f'Hello {self.name}')\n"
      ],
      "metadata": {
        "id": "C8vJRcaqOEhE"
      },
      "execution_count": null,
      "outputs": []
    },
    {
      "cell_type": "code",
      "source": [
        "p1 = Person('Goudham','India')"
      ],
      "metadata": {
        "id": "WGOkL1o4Oem5"
      },
      "execution_count": null,
      "outputs": []
    },
    {
      "cell_type": "code",
      "source": [
        "p1.greeting()"
      ],
      "metadata": {
        "colab": {
          "base_uri": "https://localhost:8080/"
        },
        "id": "7yb255_COhqG",
        "outputId": "babbcc85-2533-41dd-f6b3-b0dcdfb1139d"
      },
      "execution_count": null,
      "outputs": [
        {
          "output_type": "stream",
          "name": "stdout",
          "text": [
            "Vanakam Goudham\n"
          ]
        }
      ]
    },
    {
      "cell_type": "code",
      "source": [
        "p1.gender"
      ],
      "metadata": {
        "colab": {
          "base_uri": "https://localhost:8080/",
          "height": 144
        },
        "id": "OOOIG7SEOlSA",
        "outputId": "ad4c5202-5542-4fe5-f1b0-a64c1b40acbc"
      },
      "execution_count": null,
      "outputs": [
        {
          "output_type": "error",
          "ename": "AttributeError",
          "evalue": "'Person' object has no attribute 'gender'",
          "traceback": [
            "\u001b[0;31m---------------------------------------------------------------------------\u001b[0m",
            "\u001b[0;31mAttributeError\u001b[0m                            Traceback (most recent call last)",
            "\u001b[0;32m<ipython-input-13-70dfff6e477c>\u001b[0m in \u001b[0;36m<cell line: 1>\u001b[0;34m()\u001b[0m\n\u001b[0;32m----> 1\u001b[0;31m \u001b[0mp1\u001b[0m\u001b[0;34m.\u001b[0m\u001b[0mgender\u001b[0m\u001b[0;34m\u001b[0m\u001b[0;34m\u001b[0m\u001b[0m\n\u001b[0m",
            "\u001b[0;31mAttributeError\u001b[0m: 'Person' object has no attribute 'gender'"
          ]
        }
      ]
    },
    {
      "cell_type": "code",
      "source": [
        "p1.gender = 'Male'"
      ],
      "metadata": {
        "id": "xDXbe6BYOmuC"
      },
      "execution_count": null,
      "outputs": []
    },
    {
      "cell_type": "code",
      "source": [
        "p1.gender"
      ],
      "metadata": {
        "colab": {
          "base_uri": "https://localhost:8080/",
          "height": 36
        },
        "id": "aUHB2V0YOo0U",
        "outputId": "401978cc-3059-4e17-c60e-9fd59679996e"
      },
      "execution_count": null,
      "outputs": [
        {
          "output_type": "execute_result",
          "data": {
            "text/plain": [
              "'Male'"
            ],
            "application/vnd.google.colaboratory.intrinsic+json": {
              "type": "string"
            }
          },
          "metadata": {},
          "execution_count": 15
        }
      ]
    },
    {
      "cell_type": "code",
      "source": [
        "q = p1"
      ],
      "metadata": {
        "id": "2xXS7pyHOquM"
      },
      "execution_count": null,
      "outputs": []
    },
    {
      "cell_type": "code",
      "source": [
        "print(id(p1))\n",
        "print(id(q))"
      ],
      "metadata": {
        "colab": {
          "base_uri": "https://localhost:8080/"
        },
        "id": "McgM1SeKPEO_",
        "outputId": "9096e1c3-b3c2-400c-a937-aac9f594d682"
      },
      "execution_count": null,
      "outputs": [
        {
          "output_type": "stream",
          "name": "stdout",
          "text": [
            "134847862423312\n",
            "134847862423312\n"
          ]
        }
      ]
    },
    {
      "cell_type": "code",
      "source": [
        "q.city = 'Madurai'"
      ],
      "metadata": {
        "id": "fazKAhdNPHDJ"
      },
      "execution_count": null,
      "outputs": []
    },
    {
      "cell_type": "code",
      "source": [
        "print(id(p1))\n",
        "print(id(q))"
      ],
      "metadata": {
        "colab": {
          "base_uri": "https://localhost:8080/"
        },
        "id": "6fpGzJamPJ4C",
        "outputId": "4d8dff97-9be9-469a-dfb9-9377d5736712"
      },
      "execution_count": null,
      "outputs": [
        {
          "output_type": "stream",
          "name": "stdout",
          "text": [
            "134847862423312\n",
            "134847862423312\n"
          ]
        }
      ]
    },
    {
      "cell_type": "code",
      "source": [
        "p1.city"
      ],
      "metadata": {
        "id": "UFt_K1AwPK_V",
        "outputId": "87b0ffb0-5c33-4a84-9038-7e8427a526f6",
        "colab": {
          "base_uri": "https://localhost:8080/",
          "height": 36
        }
      },
      "execution_count": null,
      "outputs": [
        {
          "output_type": "execute_result",
          "data": {
            "text/plain": [
              "'Madurai'"
            ],
            "application/vnd.google.colaboratory.intrinsic+json": {
              "type": "string"
            }
          },
          "metadata": {},
          "execution_count": 20
        }
      ]
    },
    {
      "cell_type": "code",
      "source": [
        "class ATM:\n",
        "\n",
        "  def __init__(self):\n",
        "    self.balance = 0\n",
        "    self.pin = ''\n",
        "    # self.menu()\n",
        "\n",
        "  def menu(self):\n",
        "    user_selection = int(input(\n",
        "        \"\"\"Select any option from below Menu:\n",
        "        1. Create PIN\n",
        "        2. Update PIN\n",
        "        3. Check Balance\n",
        "        4. Withdraw Funds\n",
        "        5. Main Menu\n",
        "        6. Anything to Exit\n",
        "        \"\"\"\n",
        "    ))\n",
        "    if user_selection == 1:\n",
        "    # create pin\n",
        "        self.create_pin()\n",
        "    elif user_selection == 2:\n",
        "      # change pin\n",
        "      self.change_pin()\n",
        "    elif user_selection == 3:\n",
        "      # check balancce\n",
        "      self.check_balance()\n",
        "    elif user_selection == 4:\n",
        "      # withdraw funds\n",
        "      pass\n",
        "    elif user_selection == 5:\n",
        "      # self.menu()\n",
        "      pass\n",
        "    else:\n",
        "      exit()\n",
        "\n",
        "  def create_pin(self):\n",
        "    self.pin = int(input(\"Enter PIN \"))\n",
        "\n",
        "    self.balance = int(input(\"Enter Balance to set for your account \"))\n",
        "\n",
        "    print(\"PIN is created successfully\")\n",
        "      # self.menu()\n",
        "\n",
        "  def change_pin(self):\n",
        "    old_pin = int(input(\"Enter your PIN \"))\n",
        "    if old_pin == self.pin:\n",
        "      self.pin = int(input(\"Enter new PIN to update \"))\n",
        "      print(\"PIN updated successfully\")\n",
        "      # self.menu()\n",
        "    else:\n",
        "      print(\"You entered wrong PIN\")\n",
        "      # self.menu()\n",
        "\n",
        "  def check_balance(self):\n",
        "    old_pin = int(input(\"Enter your PIN \"))\n",
        "    if old_pin == self.pin:\n",
        "      print(\"Your currenct BAlance is \",self.balance)\n",
        "    else:\n",
        "      print(\"Entered PIN is incorrect\")\n",
        "    # self.menu()\n",
        "\n",
        "  def withdraw_money(self):\n",
        "    old_pin = int(input(\"Enter your PIN \"))\n",
        "    if old_pin == self.pin:\n",
        "      amount= int(input(\"Enter amount to withdraw : \"))\n",
        "      if amount <= self.balance:\n",
        "        self.balance -= amount\n",
        "        print(\"Amount is withdrawn and current balance \",self.balance)\n",
        "      else:\n",
        "        print(\"You have insufficient funds to withdraw\")\n",
        "    else:\n",
        "      print(\"You entered wrong PIN\")\n",
        "    # self.menu()"
      ],
      "metadata": {
        "id": "CGTt75uaPP79"
      },
      "execution_count": 5,
      "outputs": []
    },
    {
      "cell_type": "code",
      "source": [
        "myObj = ATM()\n"
      ],
      "metadata": {
        "id": "9hGsjTrf4WWt"
      },
      "execution_count": 6,
      "outputs": []
    },
    {
      "cell_type": "code",
      "source": [
        "myObj.create_pin()"
      ],
      "metadata": {
        "colab": {
          "base_uri": "https://localhost:8080/"
        },
        "id": "WR_EhGlK4vTZ",
        "outputId": "68659d8e-5363-4e74-b3d5-fa1518e84fed"
      },
      "execution_count": 7,
      "outputs": [
        {
          "output_type": "stream",
          "name": "stdout",
          "text": [
            "Enter PIN 123\n",
            "Enter Balance to set for your account 1000\n",
            "PIN is created successfully\n"
          ]
        }
      ]
    },
    {
      "cell_type": "code",
      "source": [
        "myObj.balance = 'goudham'\n"
      ],
      "metadata": {
        "id": "bwCn1R1W47td"
      },
      "execution_count": 8,
      "outputs": []
    },
    {
      "cell_type": "code",
      "source": [
        "myObj.withdraw_money()"
      ],
      "metadata": {
        "colab": {
          "base_uri": "https://localhost:8080/",
          "height": 305
        },
        "id": "WTJqNsjK5A9n",
        "outputId": "91d6bccc-65c1-474e-9cb3-61be79327c13"
      },
      "execution_count": 9,
      "outputs": [
        {
          "name": "stdout",
          "output_type": "stream",
          "text": [
            "Enter your PIN 123\n",
            "Enter amount to withdraw : 1000\n"
          ]
        },
        {
          "output_type": "error",
          "ename": "TypeError",
          "evalue": "'<=' not supported between instances of 'int' and 'str'",
          "traceback": [
            "\u001b[0;31m---------------------------------------------------------------------------\u001b[0m",
            "\u001b[0;31mTypeError\u001b[0m                                 Traceback (most recent call last)",
            "\u001b[0;32m<ipython-input-9-46652ef8d7ab>\u001b[0m in \u001b[0;36m<cell line: 1>\u001b[0;34m()\u001b[0m\n\u001b[0;32m----> 1\u001b[0;31m \u001b[0mmyObj\u001b[0m\u001b[0;34m.\u001b[0m\u001b[0mwithdraw_money\u001b[0m\u001b[0;34m(\u001b[0m\u001b[0;34m)\u001b[0m\u001b[0;34m\u001b[0m\u001b[0;34m\u001b[0m\u001b[0m\n\u001b[0m",
            "\u001b[0;32m<ipython-input-5-c55b630045cb>\u001b[0m in \u001b[0;36mwithdraw_money\u001b[0;34m(self)\u001b[0m\n\u001b[1;32m     65\u001b[0m     \u001b[0;32mif\u001b[0m \u001b[0mold_pin\u001b[0m \u001b[0;34m==\u001b[0m \u001b[0mself\u001b[0m\u001b[0;34m.\u001b[0m\u001b[0mpin\u001b[0m\u001b[0;34m:\u001b[0m\u001b[0;34m\u001b[0m\u001b[0;34m\u001b[0m\u001b[0m\n\u001b[1;32m     66\u001b[0m       \u001b[0mamount\u001b[0m\u001b[0;34m=\u001b[0m \u001b[0mint\u001b[0m\u001b[0;34m(\u001b[0m\u001b[0minput\u001b[0m\u001b[0;34m(\u001b[0m\u001b[0;34m\"Enter amount to withdraw : \"\u001b[0m\u001b[0;34m)\u001b[0m\u001b[0;34m)\u001b[0m\u001b[0;34m\u001b[0m\u001b[0;34m\u001b[0m\u001b[0m\n\u001b[0;32m---> 67\u001b[0;31m       \u001b[0;32mif\u001b[0m \u001b[0mamount\u001b[0m \u001b[0;34m<=\u001b[0m \u001b[0mself\u001b[0m\u001b[0;34m.\u001b[0m\u001b[0mbalance\u001b[0m\u001b[0;34m:\u001b[0m\u001b[0;34m\u001b[0m\u001b[0;34m\u001b[0m\u001b[0m\n\u001b[0m\u001b[1;32m     68\u001b[0m         \u001b[0mself\u001b[0m\u001b[0;34m.\u001b[0m\u001b[0mbalance\u001b[0m \u001b[0;34m-=\u001b[0m \u001b[0mamount\u001b[0m\u001b[0;34m\u001b[0m\u001b[0;34m\u001b[0m\u001b[0m\n\u001b[1;32m     69\u001b[0m         \u001b[0mprint\u001b[0m\u001b[0;34m(\u001b[0m\u001b[0;34m\"Amount is withdrawn and current balance \"\u001b[0m\u001b[0;34m,\u001b[0m\u001b[0mself\u001b[0m\u001b[0;34m.\u001b[0m\u001b[0mbalance\u001b[0m\u001b[0;34m)\u001b[0m\u001b[0;34m\u001b[0m\u001b[0;34m\u001b[0m\u001b[0m\n",
            "\u001b[0;31mTypeError\u001b[0m: '<=' not supported between instances of 'int' and 'str'"
          ]
        }
      ]
    },
    {
      "cell_type": "markdown",
      "source": [
        "above error is due to user were able to set value outside of class and leads to error, to overcome we can declare balance as private and set value only through class method is called excapsulation"
      ],
      "metadata": {
        "id": "WNYACGqQ6Mhm"
      }
    },
    {
      "cell_type": "code",
      "source": [
        "class ATM_pri:\n",
        "  def __init__(self):\n",
        "    self.__balance = 0\n",
        "    self.pin = ''\n",
        "    # self.menu()\n",
        "\n",
        "  def create_pin(self):\n",
        "    self.pin = int(input(\"Enter PIN \"))\n",
        "    self.__balance = int(input(\"Enter Balance to set for your account \"))\n",
        "    print(\"PIN is created successfully\")\n",
        "\n",
        "  def withdraw_money(self):\n",
        "    old_pin = int(input(\"Enter your PIN \"))\n",
        "    if old_pin == self.pin:\n",
        "      amount= int(input(\"Enter amount to withdraw : \"))\n",
        "      if amount <= self.__balance:\n",
        "        self.__balance -= amount\n",
        "        print(\"Amount is withdrawn and current balance \",self.__balance)\n",
        "      else:\n",
        "        print(\"You have insufficient funds to withdraw\")\n",
        "    else:\n",
        "      print(\"You entered wrong PIN\")"
      ],
      "metadata": {
        "id": "ivlbpI706QkO"
      },
      "execution_count": 1,
      "outputs": []
    },
    {
      "cell_type": "code",
      "source": [
        "atm_pri = ATM_pri()"
      ],
      "metadata": {
        "id": "XwS_1BUB6uDs"
      },
      "execution_count": 2,
      "outputs": []
    },
    {
      "cell_type": "code",
      "source": [
        "atm_pri.create_pin()"
      ],
      "metadata": {
        "colab": {
          "base_uri": "https://localhost:8080/"
        },
        "id": "ta-n3RgJ6y6G",
        "outputId": "eabe2dab-5f71-4beb-e41c-180951b3f206"
      },
      "execution_count": 3,
      "outputs": [
        {
          "output_type": "stream",
          "name": "stdout",
          "text": [
            "Enter PIN 123\n",
            "Enter Balance to set for your account 20000\n",
            "PIN is created successfully\n"
          ]
        }
      ]
    },
    {
      "cell_type": "code",
      "source": [
        "atm_pri.__balance = 'goudham'\n",
        "# this will add __balance as separate parameter, private variable is not accessed outside"
      ],
      "metadata": {
        "id": "QvjsTH-P62t0"
      },
      "execution_count": 4,
      "outputs": []
    },
    {
      "cell_type": "code",
      "source": [
        "atm_pri.withdraw_money()"
      ],
      "metadata": {
        "colab": {
          "base_uri": "https://localhost:8080/"
        },
        "id": "ByfppjB97BmP",
        "outputId": "e1c4c083-f72b-47df-8574-9f145f92379e"
      },
      "execution_count": 5,
      "outputs": [
        {
          "output_type": "stream",
          "name": "stdout",
          "text": [
            "Enter your PIN 123\n",
            "Enter amount to withdraw : 1000\n",
            "Amount is withdrawn and current balance  19000\n"
          ]
        }
      ]
    },
    {
      "cell_type": "code",
      "source": [
        "# in python private varibale is always stored as obj._class name__variable name\n",
        "# here it will be atm_pri._ATM_pri__balance"
      ],
      "metadata": {
        "id": "0jmF3M9b7FsQ"
      },
      "execution_count": 6,
      "outputs": []
    },
    {
      "cell_type": "code",
      "source": [
        "atm_pri._ATM_pri__balance"
      ],
      "metadata": {
        "colab": {
          "base_uri": "https://localhost:8080/"
        },
        "id": "Iss93JHM7Sfj",
        "outputId": "0071fd46-e9a2-4bae-be39-8b528f7e82ec"
      },
      "execution_count": 7,
      "outputs": [
        {
          "output_type": "execute_result",
          "data": {
            "text/plain": [
              "19000"
            ]
          },
          "metadata": {},
          "execution_count": 7
        }
      ]
    },
    {
      "cell_type": "code",
      "source": [
        "atm_pri._ATM_pri__balance"
      ],
      "metadata": {
        "colab": {
          "base_uri": "https://localhost:8080/"
        },
        "id": "_KZMbu1H7TJq",
        "outputId": "c58d1417-d96c-4fef-f6fd-10ccb8739269"
      },
      "execution_count": 8,
      "outputs": [
        {
          "output_type": "execute_result",
          "data": {
            "text/plain": [
              "19000"
            ]
          },
          "metadata": {},
          "execution_count": 8
        }
      ]
    },
    {
      "cell_type": "code",
      "source": [
        "atm_pri.create_pin()"
      ],
      "metadata": {
        "colab": {
          "base_uri": "https://localhost:8080/"
        },
        "id": "zSd2Nx9c7n58",
        "outputId": "f0a1e6e9-cfbc-4fd7-b1d1-1550cdbadf62"
      },
      "execution_count": 9,
      "outputs": [
        {
          "output_type": "stream",
          "name": "stdout",
          "text": [
            "Enter PIN 123\n",
            "Enter Balance to set for your account 20000\n",
            "PIN is created successfully\n"
          ]
        }
      ]
    },
    {
      "cell_type": "code",
      "source": [
        "atm_pri.__balance"
      ],
      "metadata": {
        "colab": {
          "base_uri": "https://localhost:8080/",
          "height": 36
        },
        "id": "DshwHDSTYEVK",
        "outputId": "fdd94b08-948e-44df-ec73-e037069bcd99"
      },
      "execution_count": 10,
      "outputs": [
        {
          "output_type": "execute_result",
          "data": {
            "text/plain": [
              "'goudham'"
            ],
            "application/vnd.google.colaboratory.intrinsic+json": {
              "type": "string"
            }
          },
          "metadata": {},
          "execution_count": 10
        }
      ]
    },
    {
      "cell_type": "code",
      "source": [
        "atm_pri._ATM_pri__balance = 'python'"
      ],
      "metadata": {
        "id": "siaQF30TYLVM"
      },
      "execution_count": 11,
      "outputs": []
    },
    {
      "cell_type": "code",
      "source": [
        "atm_pri.withdraw_money()"
      ],
      "metadata": {
        "colab": {
          "base_uri": "https://localhost:8080/",
          "height": 305
        },
        "id": "nFEaLF2XYOjT",
        "outputId": "ab1208e9-bf47-4c62-c6f3-14857888818a"
      },
      "execution_count": 12,
      "outputs": [
        {
          "name": "stdout",
          "output_type": "stream",
          "text": [
            "Enter your PIN 123\n",
            "Enter amount to withdraw : 4000\n"
          ]
        },
        {
          "output_type": "error",
          "ename": "TypeError",
          "evalue": "'<=' not supported between instances of 'int' and 'str'",
          "traceback": [
            "\u001b[0;31m---------------------------------------------------------------------------\u001b[0m",
            "\u001b[0;31mTypeError\u001b[0m                                 Traceback (most recent call last)",
            "\u001b[0;32m<ipython-input-12-70133d54aa40>\u001b[0m in \u001b[0;36m<cell line: 1>\u001b[0;34m()\u001b[0m\n\u001b[0;32m----> 1\u001b[0;31m \u001b[0matm_pri\u001b[0m\u001b[0;34m.\u001b[0m\u001b[0mwithdraw_money\u001b[0m\u001b[0;34m(\u001b[0m\u001b[0;34m)\u001b[0m\u001b[0;34m\u001b[0m\u001b[0;34m\u001b[0m\u001b[0m\n\u001b[0m",
            "\u001b[0;32m<ipython-input-1-8061bd85dee8>\u001b[0m in \u001b[0;36mwithdraw_money\u001b[0;34m(self)\u001b[0m\n\u001b[1;32m     14\u001b[0m     \u001b[0;32mif\u001b[0m \u001b[0mold_pin\u001b[0m \u001b[0;34m==\u001b[0m \u001b[0mself\u001b[0m\u001b[0;34m.\u001b[0m\u001b[0mpin\u001b[0m\u001b[0;34m:\u001b[0m\u001b[0;34m\u001b[0m\u001b[0;34m\u001b[0m\u001b[0m\n\u001b[1;32m     15\u001b[0m       \u001b[0mamount\u001b[0m\u001b[0;34m=\u001b[0m \u001b[0mint\u001b[0m\u001b[0;34m(\u001b[0m\u001b[0minput\u001b[0m\u001b[0;34m(\u001b[0m\u001b[0;34m\"Enter amount to withdraw : \"\u001b[0m\u001b[0;34m)\u001b[0m\u001b[0;34m)\u001b[0m\u001b[0;34m\u001b[0m\u001b[0;34m\u001b[0m\u001b[0m\n\u001b[0;32m---> 16\u001b[0;31m       \u001b[0;32mif\u001b[0m \u001b[0mamount\u001b[0m \u001b[0;34m<=\u001b[0m \u001b[0mself\u001b[0m\u001b[0;34m.\u001b[0m\u001b[0m__balance\u001b[0m\u001b[0;34m:\u001b[0m\u001b[0;34m\u001b[0m\u001b[0;34m\u001b[0m\u001b[0m\n\u001b[0m\u001b[1;32m     17\u001b[0m         \u001b[0mself\u001b[0m\u001b[0;34m.\u001b[0m\u001b[0m__balance\u001b[0m \u001b[0;34m-=\u001b[0m \u001b[0mamount\u001b[0m\u001b[0;34m\u001b[0m\u001b[0;34m\u001b[0m\u001b[0m\n\u001b[1;32m     18\u001b[0m         \u001b[0mprint\u001b[0m\u001b[0;34m(\u001b[0m\u001b[0;34m\"Amount is withdrawn and current balance \"\u001b[0m\u001b[0;34m,\u001b[0m\u001b[0mself\u001b[0m\u001b[0;34m.\u001b[0m\u001b[0m__balance\u001b[0m\u001b[0;34m)\u001b[0m\u001b[0;34m\u001b[0m\u001b[0;34m\u001b[0m\u001b[0m\n",
            "\u001b[0;31mTypeError\u001b[0m: '<=' not supported between instances of 'int' and 'str'"
          ]
        }
      ]
    },
    {
      "cell_type": "markdown",
      "source": [
        "We can set value directly to private variable of class, nothin is private in python"
      ],
      "metadata": {
        "id": "c3z_6FoDYUwk"
      }
    },
    {
      "cell_type": "code",
      "source": [
        "class ATM_set:\n",
        "  def __init__(self):\n",
        "    self.__balance = 0\n",
        "    self.pin = ''\n",
        "    # self.menu()\n",
        "\n",
        "  def create_pin(self):\n",
        "    self.pin = int(input(\"Enter PIN \"))\n",
        "    self.__balance = int(input(\"Enter Balance to set for your account \"))\n",
        "    print(\"PIN is created successfully\")\n",
        "\n",
        "  def withdraw_money(self):\n",
        "    old_pin = int(input(\"Enter your PIN \"))\n",
        "    if old_pin == self.pin:\n",
        "      amount= int(input(\"Enter amount to withdraw : \"))\n",
        "      if amount <= self.__balance:\n",
        "        self.__balance -= amount\n",
        "        print(\"Amount is withdrawn and current balance \",self.__balance)\n",
        "      else:\n",
        "        print(\"You have insufficient funds to withdraw\")\n",
        "    else:\n",
        "      print(\"You entered wrong PIN\")\n",
        "\n",
        "  def get_balance(self):\n",
        "    return self.__balance\n",
        "\n",
        "  def set_balance(self):\n",
        "    mybal = int(input(\"Set balance\"))\n",
        "    self.__balance = mybal\n",
        "\n",
        "  # def set_balance(self):\n",
        "  #   mybal = int(input(\"Enter amount to set balance\"))\n",
        "  #   self.__balance = mybal"
      ],
      "metadata": {
        "id": "rJgVJfIFYQpW"
      },
      "execution_count": 28,
      "outputs": []
    },
    {
      "cell_type": "code",
      "source": [
        "mybal = ATM_set()"
      ],
      "metadata": {
        "id": "jtE_ETWVYjVl"
      },
      "execution_count": 29,
      "outputs": []
    },
    {
      "cell_type": "code",
      "source": [
        "mybal.get_balance()"
      ],
      "metadata": {
        "colab": {
          "base_uri": "https://localhost:8080/"
        },
        "id": "XFuzNcWQZB0C",
        "outputId": "767beab8-9afb-4f27-c2bf-cf5c862d05a8"
      },
      "execution_count": 30,
      "outputs": [
        {
          "output_type": "execute_result",
          "data": {
            "text/plain": [
              "0"
            ]
          },
          "metadata": {},
          "execution_count": 30
        }
      ]
    },
    {
      "cell_type": "code",
      "source": [
        "mybal.create_pin()"
      ],
      "metadata": {
        "colab": {
          "base_uri": "https://localhost:8080/"
        },
        "id": "gtbX3Cw6ZsTZ",
        "outputId": "6a306073-856e-476a-bdc4-4bcb5da4ed59"
      },
      "execution_count": 31,
      "outputs": [
        {
          "output_type": "stream",
          "name": "stdout",
          "text": [
            "Enter PIN 123\n",
            "Enter Balance to set for your account 5000\n",
            "PIN is created successfully\n"
          ]
        }
      ]
    },
    {
      "cell_type": "code",
      "source": [
        "mybal.get_balance()"
      ],
      "metadata": {
        "colab": {
          "base_uri": "https://localhost:8080/"
        },
        "id": "qnZiwftKZwaY",
        "outputId": "0eba6d50-a99b-4b30-f122-47e753a3d085"
      },
      "execution_count": 32,
      "outputs": [
        {
          "output_type": "execute_result",
          "data": {
            "text/plain": [
              "5000"
            ]
          },
          "metadata": {},
          "execution_count": 32
        }
      ]
    },
    {
      "cell_type": "code",
      "source": [
        "mybal.set_balance()"
      ],
      "metadata": {
        "colab": {
          "base_uri": "https://localhost:8080/"
        },
        "id": "nPh1iHSqZ8T_",
        "outputId": "2ee58bac-83d2-4f67-8271-b5b4452b01b7"
      },
      "execution_count": 33,
      "outputs": [
        {
          "name": "stdout",
          "output_type": "stream",
          "text": [
            "Set balance3000\n"
          ]
        }
      ]
    },
    {
      "cell_type": "code",
      "source": [
        "mybal.get_balance()"
      ],
      "metadata": {
        "colab": {
          "base_uri": "https://localhost:8080/"
        },
        "id": "Ifz3dSJnaUsR",
        "outputId": "03d2646b-3c53-4136-eefd-0611b46fd560"
      },
      "execution_count": 34,
      "outputs": [
        {
          "output_type": "execute_result",
          "data": {
            "text/plain": [
              "3000"
            ]
          },
          "metadata": {},
          "execution_count": 34
        }
      ]
    },
    {
      "cell_type": "code",
      "source": [],
      "metadata": {
        "id": "BOiX28c2aXMo"
      },
      "execution_count": null,
      "outputs": []
    }
  ]
}