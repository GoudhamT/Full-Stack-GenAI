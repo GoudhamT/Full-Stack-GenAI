{
 "cells": [
  {
   "cell_type": "markdown",
   "id": "1d022e4a-5f41-4e24-b6f5-5a327f1a73df",
   "metadata": {},
   "source": [
    "# List Assignment"
   ]
  },
  {
   "cell_type": "markdown",
   "id": "f03a45bd-8b48-4e5e-873d-1db55edd97d7",
   "metadata": {},
   "source": [
    "### Write a  Python program to sum all the items in a list."
   ]
  },
  {
   "cell_type": "code",
   "execution_count": 3,
   "id": "1a8b0080-0990-4990-b703-64086757b30a",
   "metadata": {},
   "outputs": [
    {
     "name": "stdout",
     "output_type": "stream",
     "text": [
      "Suming of items in list is  109\n"
     ]
    }
   ],
   "source": [
    "item_list = [1,2,3,4,5,67,8,9,10]\n",
    "\n",
    "print(\"Suming of items in list is \",sum(item_list))"
   ]
  },
  {
   "cell_type": "code",
   "execution_count": 4,
   "id": "f69c0a9e-ea1f-4d1d-a4da-c14f62a3ade7",
   "metadata": {},
   "outputs": [
    {
     "name": "stdout",
     "output_type": "stream",
     "text": [
      "Suming of items in list is  109\n"
     ]
    }
   ],
   "source": [
    "# another method\n",
    "val = 0\n",
    "for i in item_list:\n",
    "    val += i\n",
    "print(\"Suming of items in list is \",val)"
   ]
  },
  {
   "cell_type": "markdown",
   "id": "09ec53d2-df93-4ccb-9d6d-37a51be84845",
   "metadata": {},
   "source": [
    "## Write a Python program to get the largest number from a list."
   ]
  },
  {
   "cell_type": "code",
   "execution_count": 10,
   "id": "40c713de-5b0c-4525-b84e-5ee2ab0562aa",
   "metadata": {},
   "outputs": [
    {
     "name": "stdout",
     "output_type": "stream",
     "text": [
      "Greatest of number is  809\n"
     ]
    }
   ],
   "source": [
    "from functools import reduce\n",
    "item_list = [5,6,78,344,12,45,809,99,23,1]\n",
    "\n",
    "print(\"Greatest of number is \",reduce(lambda a,b : a if a>b else b, item_list ))\n"
   ]
  },
  {
   "cell_type": "code",
   "execution_count": 11,
   "id": "00b40061-ce51-4031-8cc1-899fbe2e940a",
   "metadata": {},
   "outputs": [
    {
     "name": "stdout",
     "output_type": "stream",
     "text": [
      "Greatest of number is  809\n"
     ]
    }
   ],
   "source": [
    "# anoter method\n",
    "no = 0\n",
    "for i in item_list:\n",
    "    if i > no :\n",
    "        no = i\n",
    "print(\"Greatest of number is \",no)"
   ]
  },
  {
   "cell_type": "markdown",
   "id": "4f6ad6cd-2ee1-4e6c-b97c-191ef08dd317",
   "metadata": {},
   "source": [
    "## Write a Python program to clone or copy item in a list."
   ]
  },
  {
   "cell_type": "code",
   "execution_count": 15,
   "id": "019b092f-d15c-4aed-89a5-239839b804f1",
   "metadata": {},
   "outputs": [
    {
     "name": "stdout",
     "output_type": "stream",
     "text": [
      "Extracted duplicate values are  [56, 1, 3, 4]\n"
     ]
    }
   ],
   "source": [
    "copy_list = [1,2,3,4,1,3,4,56,78,1,3,4,56,90,1,23,34]\n",
    "clone_list = []\n",
    "for i in copy_list:\n",
    "    if copy_list.count(i) > 1:\n",
    "        clone_list.append(i)\n",
    "print(\"Extracted duplicate values are \", list(set(clone_list)))"
   ]
  },
  {
   "cell_type": "markdown",
   "id": "daef236a-7ec5-4bf5-946d-fd6fd189f95d",
   "metadata": {},
   "source": [
    "# Write a Python program to access the index of an element present in a list"
   ]
  },
  {
   "cell_type": "code",
   "execution_count": 23,
   "id": "f3cfa867-b52b-4709-ad4e-f26a6a917157",
   "metadata": {},
   "outputs": [
    {
     "name": "stdin",
     "output_type": "stream",
     "text": [
      "Enter value to search in list CV\n"
     ]
    },
    {
     "name": "stdout",
     "output_type": "stream",
     "text": [
      "Input not present in list\n"
     ]
    }
   ],
   "source": [
    "mylist = ['python','c','c++','ML']\n",
    "search = input(\"Enter value to search in list\")\n",
    "if search in mylist:\n",
    "    print(f\"Index values for input {search} is {mylist.index(search)}\")\n",
    "else:\n",
    "    print(\"Input not present in list\")"
   ]
  },
  {
   "cell_type": "code",
   "execution_count": null,
   "id": "b6ecf470-9f55-45cf-95cb-f28dbdd1c49f",
   "metadata": {},
   "outputs": [],
   "source": []
  }
 ],
 "metadata": {
  "kernelspec": {
   "display_name": "Python 3 (ipykernel)",
   "language": "python",
   "name": "python3"
  },
  "language_info": {
   "codemirror_mode": {
    "name": "ipython",
    "version": 3
   },
   "file_extension": ".py",
   "mimetype": "text/x-python",
   "name": "python",
   "nbconvert_exporter": "python",
   "pygments_lexer": "ipython3",
   "version": "3.10.8"
  }
 },
 "nbformat": 4,
 "nbformat_minor": 5
}
