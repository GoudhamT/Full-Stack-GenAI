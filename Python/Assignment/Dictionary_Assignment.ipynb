{
 "cells": [
  {
   "cell_type": "markdown",
   "id": "b7879b7d-40f8-4ca0-b748-fd49e643e4c5",
   "metadata": {},
   "source": [
    "# Dictionary Assignment"
   ]
  },
  {
   "cell_type": "markdown",
   "id": "c7950d8b-e9cc-446f-a1a5-6954dd40345a",
   "metadata": {},
   "source": [
    "## 1.Write a Python program to count the number of items in a dictionary value that is a list."
   ]
  },
  {
   "cell_type": "code",
   "execution_count": 9,
   "id": "133211d1-8b1c-4e82-817f-a31040600660",
   "metadata": {},
   "outputs": [],
   "source": [
    "\n",
    "dict_user =  {'Alex': ['subj1', 'subj2', 'subj3'], 'David': ['subj1', 'subj2'],\"python\":\"programming language\"}"
   ]
  },
  {
   "cell_type": "code",
   "execution_count": 10,
   "id": "c5fda1b6-6b1e-4954-86ff-ec73f73c2ad4",
   "metadata": {},
   "outputs": [],
   "source": [
    "for key,val in dict_user.items():\n",
    "    list_cnt = 0\n",
    "    if type(val) == list:\n",
    "        for i in val:\n",
    "            list_cnt += 1\n",
    "        dict_user[key] = list_cnt\n",
    "    else:\n",
    "        dict_user[key] = val"
   ]
  },
  {
   "cell_type": "code",
   "execution_count": 12,
   "id": "1c84b0ba-7db1-4252-9ac5-5c6b460d3f19",
   "metadata": {},
   "outputs": [
    {
     "name": "stdout",
     "output_type": "stream",
     "text": [
      "{'Alex': 3, 'David': 2, 'python': 'programming language'}\n"
     ]
    }
   ],
   "source": [
    "print(dict_user)"
   ]
  },
  {
   "cell_type": "markdown",
   "id": "5ce727ea-9ef1-467e-b6e0-9faeeb94868d",
   "metadata": {},
   "source": [
    "## 2.Write a  Python program to sort Counter by value.\n",
    "### Sample data : {'Math':81, 'Physics':83, 'Chemistry':87}\n",
    "### Expected data: [('Chemistry', 87), ('Physics', 83), ('Math', 81)]"
   ]
  },
  {
   "cell_type": "code",
   "execution_count": 14,
   "id": "f66e769b-65f4-466a-900d-8515acf51950",
   "metadata": {},
   "outputs": [],
   "source": [
    "from operator import itemgetter\n",
    "data_dict = {'Math':81, 'Physics':83, 'Chemistry':87}"
   ]
  },
  {
   "cell_type": "code",
   "execution_count": 28,
   "id": "5b73d282-dad6-4361-9c31-793ebe60a139",
   "metadata": {},
   "outputs": [
    {
     "name": "stdout",
     "output_type": "stream",
     "text": [
      "Sorted order is  [('Chemistry', 87), ('Math', 81), ('Physics', 83)]\n"
     ]
    }
   ],
   "source": [
    "print(\"Sorted order is \",sorted(data_dict.items()))"
   ]
  },
  {
   "cell_type": "markdown",
   "id": "ae243655-7111-4339-9ce5-8627f3cb4970",
   "metadata": {},
   "source": [
    "# Write a Python program to match key values in two dictionaries.\n",
    "### Sample dictionary: {'key1': 1, 'key2': 3, 'key3': 2}, {'key1': 1, 'key2': 2}\n",
    "### Expected output: key1: 1 is present in both x and y"
   ]
  },
  {
   "cell_type": "code",
   "execution_count": 19,
   "id": "db7ee765-6028-49d4-8ce0-40526fb829ba",
   "metadata": {},
   "outputs": [
    {
     "name": "stdout",
     "output_type": "stream",
     "text": [
      "key1 : 1 is present both dictionaries\n",
      "key2 : 3 is present both dictionaries\n"
     ]
    }
   ],
   "source": [
    "dict1 = {'key1': 1, 'key2': 3, 'key3': 2}\n",
    "dict2 = {'key1': 1, 'key2': 2}\n",
    "for key in dict1.keys():\n",
    "    if key in dict2.keys():\n",
    "        print(f\"{key} : {dict1[key]} is present both dictionaries\")"
   ]
  },
  {
   "cell_type": "markdown",
   "id": "5bf1fe6b-6211-47c8-94a2-19d77252d9e9",
   "metadata": {},
   "source": [
    "# Write a  Python program to drop empty items from a given dictionary.\n",
    "### Original Dictionary:\n",
    "### {'c1': 'Red', 'c2': 'Green', 'c3': None}\n",
    "### New Dictionary after dropping empty items:\n",
    "### {'c1': 'Red', 'c2': 'Green'}"
   ]
  },
  {
   "cell_type": "code",
   "execution_count": 22,
   "id": "f2f292cf-2486-4b25-9115-3ae3c936c3bf",
   "metadata": {},
   "outputs": [
    {
     "name": "stdout",
     "output_type": "stream",
     "text": [
      "After removing empty value from dictionary it is  {'c1': 'Red', 'c2': 'Green'}\n"
     ]
    }
   ],
   "source": [
    "dict1 = {'c1': 'Red', 'c2': 'Green', 'c3': None}\n",
    "dict_final = dict()\n",
    "for key,val in dict1.items():\n",
    "    if val != None:\n",
    "        dict_final[key] = val\n",
    "print(\"After removing empty value from dictionary it is \",dict_final)"
   ]
  },
  {
   "cell_type": "code",
   "execution_count": null,
   "id": "ba147694-f110-4be2-bd15-4f1af6425f99",
   "metadata": {},
   "outputs": [],
   "source": []
  }
 ],
 "metadata": {
  "kernelspec": {
   "display_name": "Python 3 (ipykernel)",
   "language": "python",
   "name": "python3"
  },
  "language_info": {
   "codemirror_mode": {
    "name": "ipython",
    "version": 3
   },
   "file_extension": ".py",
   "mimetype": "text/x-python",
   "name": "python",
   "nbconvert_exporter": "python",
   "pygments_lexer": "ipython3",
   "version": "3.10.8"
  }
 },
 "nbformat": 4,
 "nbformat_minor": 5
}
