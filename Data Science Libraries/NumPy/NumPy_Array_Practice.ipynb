{
 "cells": [
  {
   "cell_type": "markdown",
   "id": "07bffc67",
   "metadata": {},
   "source": [
    "# Numpy Practice"
   ]
  },
  {
   "cell_type": "code",
   "execution_count": 1,
   "id": "450bd452",
   "metadata": {},
   "outputs": [],
   "source": []
  },
  {
   "cell_type": "code",
   "execution_count": 2,
   "id": "723e471a",
   "metadata": {},
   "outputs": [],
   "source": [
    "import numpy as np"
   ]
  },
  {
   "cell_type": "code",
   "execution_count": 3,
   "id": "3bd69217",
   "metadata": {},
   "outputs": [],
   "source": [
    "### 1. Write a  NumPy program to print the NumPy version on your system."
   ]
  },
  {
   "cell_type": "code",
   "execution_count": 5,
   "id": "41729c34",
   "metadata": {},
   "outputs": [
    {
     "name": "stdout",
     "output_type": "stream",
     "text": [
      "1.24.3\n"
     ]
    }
   ],
   "source": [
    "print(np.__version__)"
   ]
  },
  {
   "cell_type": "raw",
   "id": "320506db",
   "metadata": {},
   "source": [
    "### 2. Write a NumPy program to convert a list of numeric values into a one-dimensional NumPy array.\n",
    "Expected Output:\n",
    "Original List: [12.23, 13.32, 100, 36.32]\n",
    "One-dimensional NumPy array: [ 12.23 13.32 100. 36.32]"
   ]
  },
  {
   "cell_type": "code",
   "execution_count": 12,
   "id": "fa8fcbe7",
   "metadata": {},
   "outputs": [
    {
     "name": "stdout",
     "output_type": "stream",
     "text": [
      "Original list is  [12.23, 13.32, 100, 36.32]\n",
      "One-dimensional NumPy array: [ 12.23  13.32 100.    36.32]\n"
     ]
    }
   ],
   "source": [
    "mylist = [12.23, 13.32, 100, 36.32]\n",
    "myarr = np.array(mylist,dtype=float)\n",
    "print(\"Original list is \",mylist)\n",
    "print(\"One-dimensional NumPy array:\",myarr)"
   ]
  },
  {
   "cell_type": "raw",
   "id": "df495bfd",
   "metadata": {},
   "source": [
    "3.Write a NumPy program to create a 3x3 matrix with values ranging from 2 to 10.\n",
    "Expected Output:\n",
    "[[ 2 3 4]\n",
    "[ 5 6 7]\n",
    "[ 8 9 10]]"
   ]
  },
  {
   "cell_type": "code",
   "execution_count": 28,
   "id": "a9f82374",
   "metadata": {},
   "outputs": [
    {
     "name": "stdout",
     "output_type": "stream",
     "text": [
      "Created matrix is\n",
      "[[ 2  3  4]\n",
      " [ 5  6  7]\n",
      " [ 8  9 10]]\n"
     ]
    }
   ],
   "source": [
    "myarr = np.arange(2,11,dtype=int).reshape(3,3)\n",
    "print(\"Created matrix is\",myarr,sep='\\n')"
   ]
  },
  {
   "cell_type": "raw",
   "id": "d58d9059",
   "metadata": {},
   "source": [
    "4. Write a  NumPy program to create a null vector of size 10 and update the sixth value to 11.\n",
    "[ 0. 0. 0. 0. 0. 0. 0. 0. 0. 0.]\n",
    "Update sixth value to 11\n",
    "[ 0. 0. 0. 0. 0. 0. 11. 0. 0. 0.]"
   ]
  },
  {
   "cell_type": "code",
   "execution_count": 24,
   "id": "1ccc5371",
   "metadata": {},
   "outputs": [
    {
     "name": "stdout",
     "output_type": "stream",
     "text": [
      "array generated \n",
      "[0. 0. 0. 0. 0. 0. 0. 0. 0. 0.]\n",
      "after 6th position updated\n",
      "[ 0.  0.  0.  0.  0.  0. 11.  0.  0.  0.]\n"
     ]
    }
   ],
   "source": [
    "myarr = np.zeros(10)\n",
    "print(\"array generated \",myarr,sep=\"\\n\")\n",
    "myarr[6] = 11\n",
    "print(\"after 6th position updated\",myarr, sep=\"\\n\")"
   ]
  },
  {
   "cell_type": "raw",
   "id": "f5f7ce8f",
   "metadata": {},
   "source": [
    "5. Write a  NumPy program to create an array with values ranging from 12 to 38.\n",
    "Expected Output:\n",
    "[12 13 14 15 16 17 18 19 20 21 22 23 24 25 26 27 28 29 30 31 32 33 34 35 36 37]\n"
   ]
  },
  {
   "cell_type": "code",
   "execution_count": 30,
   "id": "2866e355",
   "metadata": {},
   "outputs": [
    {
     "name": "stdout",
     "output_type": "stream",
     "text": [
      "Generated array is  [12 13 14 15 16 17 18 19 20 21 22 23 24 25 26 27 28 29 30 31 32 33 34 35\n",
      " 36 37]\n"
     ]
    }
   ],
   "source": [
    "myarr = np.arange(12,38)\n",
    "print(\"Generated array is \",myarr)"
   ]
  },
  {
   "cell_type": "raw",
   "id": "edf9f0a1",
   "metadata": {},
   "source": [
    "6. Write a NumPy program to reverse an array (the first element becomes the last).\n",
    "Original array:\n",
    "[12 13 14 15 16 17 18 19 20 21 22 23 24 25 26 27 28 29 30 31 32 33 34 35 36 37]\n",
    "Reverse array:\n",
    "[37 36 35 34 33 32 31 30 29 28 27 26 25 24 23 22 21 20 19 18 17 16 15 14 13 12]"
   ]
  },
  {
   "cell_type": "code",
   "execution_count": 32,
   "id": "4745f01b",
   "metadata": {},
   "outputs": [
    {
     "name": "stdout",
     "output_type": "stream",
     "text": [
      "Original array is \n",
      "[12 13 14 15 16 17 18 19 20 21 22 23 24 25 26 27 28 29 30 31 32 33 34 35\n",
      " 36 37]\n",
      "Reversed array is \n",
      "[37 36 35 34 33 32 31 30 29 28 27 26 25 24 23 22 21 20 19 18 17 16 15 14\n",
      " 13 12]\n"
     ]
    }
   ],
   "source": [
    "myarr = np.arange(12,38)\n",
    "print(\"Original array is \",myarr,sep=\"\\n\")\n",
    "myarr1= myarr[::-1]\n",
    "print(\"Reversed array is \",myarr1,sep=\"\\n\")"
   ]
  },
  {
   "cell_type": "raw",
   "id": "09b53503",
   "metadata": {},
   "source": [
    "7. Write a  NumPy program to convert an array to a floating type.\n",
    "Sample output:\n",
    "Original array\n",
    "[1, 2, 3, 4]\n",
    "Array converted to a float type:\n",
    "[ 1. 2. 3. 4.]"
   ]
  },
  {
   "cell_type": "code",
   "execution_count": 39,
   "id": "8d1acf2f",
   "metadata": {},
   "outputs": [
    {
     "name": "stdout",
     "output_type": "stream",
     "text": [
      "Original array is \n",
      "[1 2 3 4]\n",
      "Array converted to a float type:\n",
      "[1. 2. 3. 4.]\n"
     ]
    }
   ],
   "source": [
    "myarr = np.array([1,2,3,4])\n",
    "print(\"Original array is \",myarr,sep=\"\\n\")\n",
    "\n",
    "myfarr = np.asfarray(myarr) #asfarray means converting to floating point\n",
    "print(\"Array converted to a float type:\",myfarr,sep=\"\\n\")\n"
   ]
  },
  {
   "cell_type": "raw",
   "id": "a04b6fee",
   "metadata": {},
   "source": [
    "8. Write a  NumPy program to create a 2D array with 1 on the border and 0 inside.\n",
    "Expected Output:\n",
    "Original array:\n",
    "[[ 1. 1. 1. 1. 1.]\n",
    "...................\n",
    "[ 1. 1. 1. 1. 1.]]\n",
    "1 on the border and 0 inside in the array\n",
    "[[ 1. 1. 1. 1. 1.]\n",
    "...................\n",
    "[ 1. 1. 1. 1. 1.]]"
   ]
  },
  {
   "cell_type": "code",
   "execution_count": 55,
   "id": "450d7c4c",
   "metadata": {},
   "outputs": [
    {
     "name": "stdout",
     "output_type": "stream",
     "text": [
      "Original array\n",
      "[[1. 1. 1. 1. 1.]\n",
      " [1. 1. 1. 1. 1.]\n",
      " [1. 1. 1. 1. 1.]\n",
      " [1. 1. 1. 1. 1.]\n",
      " [1. 1. 1. 1. 1.]]\n"
     ]
    }
   ],
   "source": [
    "x = np.ones((5, 5))\n",
    "print(\"Original array\",x,sep=\"\\n\")"
   ]
  },
  {
   "cell_type": "code",
   "execution_count": 17,
   "id": "dd19e1f0",
   "metadata": {},
   "outputs": [],
   "source": [
    "x[1:4,1:4] = 0"
   ]
  },
  {
   "cell_type": "code",
   "execution_count": 18,
   "id": "58bb3ae8",
   "metadata": {},
   "outputs": [
    {
     "name": "stdout",
     "output_type": "stream",
     "text": [
      "1 on the border and 0 inside in the array\n",
      "[[1. 1. 1. 1. 1.]\n",
      " [1. 0. 0. 0. 1.]\n",
      " [1. 0. 0. 0. 1.]\n",
      " [1. 0. 0. 0. 1.]\n",
      " [1. 1. 1. 1. 1.]]\n"
     ]
    }
   ],
   "source": [
    "print(\"1 on the border and 0 inside in the array\",x,sep=\"\\n\")"
   ]
  },
  {
   "cell_type": "raw",
   "id": "31f1cd52",
   "metadata": {},
   "source": [
    "9. Write a NumPy program to add a border (filled with 0's) around an existing array.\n",
    "Expected Output:\n",
    "Original array:\n",
    "[[ 1. 1. 1.]\n",
    "[ 1. 1. 1.]\n",
    "[ 1. 1. 1.]]\n",
    "1 on the border and 0 inside in the array\n",
    "[[ 0. 0. 0. 0. 0.]\n",
    "...........\n",
    "[ 0. 0. 0. 0. 0.]]"
   ]
  },
  {
   "cell_type": "code",
   "execution_count": 44,
   "id": "a05ac088",
   "metadata": {},
   "outputs": [
    {
     "name": "stdout",
     "output_type": "stream",
     "text": [
      "Original array:\n",
      "[[0. 0. 0. 0. 0.]\n",
      " [0. 0. 0. 0. 0.]\n",
      " [0. 0. 0. 0. 0.]\n",
      " [0. 0. 0. 0. 0.]\n",
      " [0. 0. 0. 0. 0.]]\n"
     ]
    }
   ],
   "source": [
    "y = np.zeros((5,5))\n",
    "print(\"Original array:\",y,sep=\"\\n\")"
   ]
  },
  {
   "cell_type": "code",
   "execution_count": 30,
   "id": "0c6be47a",
   "metadata": {},
   "outputs": [
    {
     "name": "stdout",
     "output_type": "stream",
     "text": [
      "1 on the border and 0 inside in the array\n",
      "[[0. 0. 0. 0. 0.]\n",
      " [0. 1. 1. 1. 0.]\n",
      " [0. 1. 1. 1. 0.]\n",
      " [0. 1. 1. 1. 0.]\n",
      " [0. 0. 0. 0. 0.]]\n"
     ]
    }
   ],
   "source": [
    "y[1:4,1:4] = 1\n",
    "print(\"1 on the border and 0 inside in the array\",y,sep=\"\\n\")"
   ]
  },
  {
   "cell_type": "code",
   "execution_count": 61,
   "id": "56e268e6",
   "metadata": {},
   "outputs": [],
   "source": [
    "# another method to append os inside array is :\n",
    "z = np.ones((3,3))\n",
    "z = np.pad(z,pad_width = 1,mode='constant',constant_values=0)"
   ]
  },
  {
   "cell_type": "code",
   "execution_count": 62,
   "id": "610eb768",
   "metadata": {},
   "outputs": [
    {
     "data": {
      "text/plain": [
       "array([[0., 0., 0., 0., 0.],\n",
       "       [0., 1., 1., 1., 0.],\n",
       "       [0., 1., 1., 1., 0.],\n",
       "       [0., 1., 1., 1., 0.],\n",
       "       [0., 0., 0., 0., 0.]])"
      ]
     },
     "execution_count": 62,
     "metadata": {},
     "output_type": "execute_result"
    }
   ],
   "source": [
    "z"
   ]
  },
  {
   "cell_type": "raw",
   "id": "fc130aa1",
   "metadata": {},
   "source": [
    "10. Write a  NumPy program to create an 8x8 matrix and fill it with a checkerboard pattern.\n",
    "Checkerboard pattern:\n",
    "[[0 1 0 1 0 1 0 1]\n",
    "..........\n",
    "[0 1 0 1 0 1 0 1]\n",
    "[1 0 1 0 1 0 1 0]]"
   ]
  },
  {
   "cell_type": "code",
   "execution_count": 76,
   "id": "78f95c0a",
   "metadata": {},
   "outputs": [
    {
     "data": {
      "text/plain": [
       "array([[0., 1., 0., 1., 0., 1., 0., 1.],\n",
       "       [1., 0., 1., 0., 1., 0., 1., 0.],\n",
       "       [0., 1., 0., 1., 0., 1., 0., 1.],\n",
       "       [1., 0., 1., 0., 1., 0., 1., 0.],\n",
       "       [0., 1., 0., 1., 0., 1., 0., 1.],\n",
       "       [1., 0., 1., 0., 1., 0., 1., 0.],\n",
       "       [0., 1., 0., 1., 0., 1., 0., 1.],\n",
       "       [1., 0., 1., 0., 1., 0., 1., 0.]])"
      ]
     },
     "execution_count": 76,
     "metadata": {},
     "output_type": "execute_result"
    }
   ],
   "source": [
    "my8 = np.zeros((8,8))\n",
    "my8[::2,1::2] = 1\n",
    "my8[1::2, ::2] = 1\n",
    "my8"
   ]
  },
  {
   "cell_type": "raw",
   "id": "1fede14b",
   "metadata": {},
   "source": [
    "11. Write a  NumPy program to convert a list and tuple into arrays.\n",
    "List to array:\n",
    "[1 2 3 4 5 6 7 8]\n",
    "Tuple to array:\n",
    "[[8 4 6]\n",
    "[1 2 3]]"
   ]
  },
  {
   "cell_type": "code",
   "execution_count": 80,
   "id": "5ccbb073",
   "metadata": {},
   "outputs": [
    {
     "name": "stdout",
     "output_type": "stream",
     "text": [
      "List to array:\n",
      "[1 2 3 4 5 6 7 8]\n",
      "Tuple to array:\n",
      "[[8 4 6]\n",
      " [1 2 3]]\n"
     ]
    }
   ],
   "source": [
    "mylist = [1,2,3,4,5,6,7,8]\n",
    "print(\"List to array:\",np.array(mylist),sep=\"\\n\")\n",
    "mytuple = (8,4,6,1,2,3)\n",
    "print(\"Tuple to array:\",np.array(mytuple).reshape(2,3),sep=\"\\n\")"
   ]
  },
  {
   "cell_type": "raw",
   "id": "9e049053",
   "metadata": {},
   "source": [
    "12. Write a NumPy program to append values to the end of an array.\n",
    "Expected Output:\n",
    "Original array:\n",
    "[10, 20, 30]\n",
    "After append values to the end of the array:\n",
    "[10 20 30 40 50 60 70 80 90]"
   ]
  },
  {
   "cell_type": "code",
   "execution_count": 88,
   "id": "038bbe42",
   "metadata": {},
   "outputs": [
    {
     "name": "stdout",
     "output_type": "stream",
     "text": [
      "Original array:\n",
      "[10 20 30]\n",
      "After append values to the end of the array:\n",
      "[10 20 30 40 50 60 70 80 90]\n"
     ]
    }
   ],
   "source": [
    "org_arr = np.array([10,20,30])\n",
    "print(\"Original array:\",org_arr,sep=\"\\n\")\n",
    "org_arr = np.append(org_arr,[40,50,60,70,80,90],axis=0)\n",
    "print(\"After append values to the end of the array:\",org_arr,sep=\"\\n\")"
   ]
  },
  {
   "cell_type": "code",
   "execution_count": null,
   "id": "4a191b72",
   "metadata": {},
   "outputs": [],
   "source": []
  }
 ],
 "metadata": {
  "kernelspec": {
   "display_name": "Python 3 (ipykernel)",
   "language": "python",
   "name": "python3"
  },
  "language_info": {
   "codemirror_mode": {
    "name": "ipython",
    "version": 3
   },
   "file_extension": ".py",
   "mimetype": "text/x-python",
   "name": "python",
   "nbconvert_exporter": "python",
   "pygments_lexer": "ipython3",
   "version": "3.11.5"
  }
 },
 "nbformat": 4,
 "nbformat_minor": 5
}
