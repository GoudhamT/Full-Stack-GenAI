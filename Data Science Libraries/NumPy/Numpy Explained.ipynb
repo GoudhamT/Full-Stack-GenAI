{
 "cells": [
  {
   "cell_type": "markdown",
   "metadata": {},
   "source": [
    "# NumPy Library Overview\n",
    "\n",
    "This notebook provides a comprehensive overview of the NumPy library, covering array creation, attributes, operations, and broadcasting."
   ]
  },
  {
   "cell_type": "markdown",
   "metadata": {},
   "source": [
    "## 1. Creating NumPy Arrays"
   ]
  },
  {
   "cell_type": "code",
   "execution_count": 8,
   "metadata": {},
   "outputs": [
    {
     "data": {
      "text/plain": [
       "(array([1, 2, 3, 4, 5]),\n",
       " array([1., 2., 3., 4., 5.], dtype=float32),\n",
       " array([0, 2, 4, 6, 8]),\n",
       " array([[1., 1., 1.],\n",
       "        [1., 1., 1.],\n",
       "        [1., 1., 1.]]),\n",
       " array([[0., 0.],\n",
       "        [0., 0.]]),\n",
       " array([[1., 0., 0.],\n",
       "        [0., 1., 0.],\n",
       "        [0., 0., 1.]]),\n",
       " array([[0.58943285, 0.51794938, 0.7713326 ],\n",
       "        [0.28716377, 0.03246446, 0.41550428],\n",
       "        [0.02798523, 0.90959525, 0.79242667]]),\n",
       " array([ 0. ,  2.5,  5. ,  7.5, 10. ]))"
      ]
     },
     "execution_count": 8,
     "metadata": {},
     "output_type": "execute_result"
    }
   ],
   "source": [
    "import numpy as np\n",
    "\n",
    "# Create arrays with different methods\n",
    "array_from_list = np.array([1, 2, 3, 4, 5])\n",
    "array_with_type = np.array([1, 2, 3, 4, 5], dtype='float32')\n",
    "array_using_arange = np.arange(0, 10, 2)\n",
    "array_of_ones = np.ones((3, 3))\n",
    "array_of_zeros = np.zeros((2, 2))\n",
    "identity_matrix = np.eye(3)\n",
    "random_array = np.random.random((3, 3))\n",
    "linspace_array = np.linspace(0, 10, 5)\n",
    "\n",
    "array_from_list, array_with_type, array_using_arange, array_of_ones, array_of_zeros, identity_matrix, random_array, linspace_array"
   ]
  },
  {
   "cell_type": "markdown",
   "metadata": {},
   "source": [
    "## 2. Array Attributes"
   ]
  },
  {
   "cell_type": "code",
   "execution_count": 2,
   "metadata": {},
   "outputs": [],
   "source": [
    "# Example array\n",
    "example_array = np.array([[1, 2, 3], [4, 5, 6], [7, 8, 9]])\n",
    "\n",
    "# Array attributes\n",
    "shape = example_array.shape\n",
    "dtype = example_array.dtype\n",
    "itemsize = example_array.itemsize\n",
    "size = example_array.size\n",
    "\n",
    "shape, dtype, itemsize, size"
   ]
  },
  {
   "cell_type": "markdown",
   "metadata": {},
   "source": [
    "## 3. Array Operations"
   ]
  },
  {
   "cell_type": "code",
   "execution_count": 3,
   "metadata": {},
   "outputs": [],
   "source": [
    "# Slicing and Indexing\n",
    "sliced_array = example_array[1:, 1:]\n",
    "\n",
    "# Scalar operations\n",
    "added_array = example_array + 10\n",
    "multiplied_array = example_array * 2\n",
    "\n",
    "# Element-wise operations\n",
    "added_arrays = example_array + example_array\n",
    "multiplied_arrays = example_array * example_array\n",
    "\n",
    "sliced_array, added_array, multiplied_array, added_arrays, multiplied_arrays"
   ]
  },
  {
   "cell_type": "markdown",
   "metadata": {},
   "source": [
    "## 4. Broadcasting"
   ]
  },
  {
   "cell_type": "code",
   "execution_count": 4,
   "metadata": {},
   "outputs": [],
   "source": [
    "# Broadcasting example\n",
    "array_a = np.array([[1, 2, 3], [4, 5, 6], [7, 8, 9]])\n",
    "array_b = np.array([1, 0, 1])\n",
    "\n",
    "broadcasted_sum = array_a + array_b\n",
    "broadcasted_sum"
   ]
  },
  {
   "cell_type": "markdown",
   "metadata": {},
   "source": [
    "## 5. Dot Product"
   ]
  },
  {
   "cell_type": "code",
   "execution_count": 5,
   "metadata": {},
   "outputs": [],
   "source": [
    "# Dot product example\n",
    "array_c = np.array([[1, 2], [3, 4]])\n",
    "array_d = np.array([[5, 6], [7, 8]])\n",
    "\n",
    "dot_product = np.dot(array_c, array_d)\n",
    "dot_product"
   ]
  },
  {
   "cell_type": "markdown",
   "metadata": {},
   "source": [
    "## 6. More Examples and Exercises"
   ]
  },
  {
   "cell_type": "markdown",
   "metadata": {},
   "source": [
    "### Example 1: Element-wise comparison"
   ]
  },
  {
   "cell_type": "code",
   "execution_count": 6,
   "metadata": {},
   "outputs": [],
   "source": [
    "# Element-wise comparison example\n",
    "array_e = np.array([1, 2, 3])\n",
    "array_f = np.array([3, 2, 1])\n",
    "\n",
    "comparison = array_e > array_f\n",
    "comparison"
   ]
  },
  {
   "cell_type": "markdown",
   "metadata": {},
   "source": [
    "### Example 2: Summing elements"
   ]
  },
  {
   "cell_type": "code",
   "execution_count": 7,
   "metadata": {},
   "outputs": [],
   "source": [
    "# Summing elements example\n",
    "sum_elements = np.sum(example_array)\n",
    "sum_elements"
   ]
  },
  {
   "cell_type": "markdown",
   "metadata": {},
   "source": [
    "### Example 3: Reshaping arrays"
   ]
  },
  {
   "cell_type": "code",
   "execution_count": 8,
   "metadata": {},
   "outputs": [],
   "source": [
    "# Reshaping example\n",
    "reshaped_array = example_array.reshape((1, 9))\n",
    "reshaped_array"
   ]
  },
  {
   "cell_type": "markdown",
   "metadata": {},
   "source": [
    "### Example 4: Stacking arrays"
   ]
  },
  {
   "cell_type": "code",
   "execution_count": 9,
   "metadata": {},
   "outputs": [],
   "source": [
    "# Stacking example\n",
    "array_g = np.array([1, 2, 3])\n",
    "array_h = np.array([4, 5, 6])\n",
    "\n",
    "stacked_array = np.vstack((array_g, array_h))\n",
    "stacked_array"
   ]
  },
  {
   "cell_type": "markdown",
   "metadata": {},
   "source": [
    "### Example 5: Splitting arrays"
   ]
  },
  {
   "cell_type": "code",
   "execution_count": 10,
   "metadata": {},
   "outputs": [],
   "source": [
    "# Splitting example\n",
    "array_i = np.array([1, 2, 3, 4, 5, 6])\n",
    "\n",
    "split_array = np.split(array_i, 3)\n",
    "split_array"
   ]
  }
 ],
 "metadata": {
  "kernelspec": {
   "display_name": "Python 3 (ipykernel)",
   "language": "python",
   "name": "python3"
  },
  "language_info": {
   "codemirror_mode": {
    "name": "ipython",
    "version": 3
   },
   "file_extension": ".py",
   "mimetype": "text/x-python",
   "name": "python",
   "nbconvert_exporter": "python",
   "pygments_lexer": "ipython3",
   "version": "3.11.5"
  }
 },
 "nbformat": 4,
 "nbformat_minor": 4
}
