{
 "cells": [
  {
   "cell_type": "code",
   "execution_count": 1,
   "id": "efb9d7af-e6fd-4b2b-9147-dbe9167bef6c",
   "metadata": {},
   "outputs": [],
   "source": [
    "# NumPy Assignment"
   ]
  },
  {
   "cell_type": "code",
   "execution_count": 1,
   "id": "1186389d-e1c7-459e-9cd9-6e9167ec0582",
   "metadata": {},
   "outputs": [],
   "source": [
    "import numpy as np"
   ]
  },
  {
   "cell_type": "code",
   "execution_count": 9,
   "id": "d1c4a7ce-c6ea-4460-b139-f282ecf3efbb",
   "metadata": {},
   "outputs": [],
   "source": [
    "# 1. Create a 1D Numpy array with values from 0 to 9."
   ]
  },
  {
   "cell_type": "code",
   "execution_count": 3,
   "id": "3428d63b-72b4-46c5-b401-9e312d31888e",
   "metadata": {},
   "outputs": [
    {
     "name": "stdout",
     "output_type": "stream",
     "text": [
      "1\n"
     ]
    }
   ],
   "source": [
    "my1darray = np.arange(0,10)\n",
    "print(my1darray.ndim)"
   ]
  },
  {
   "cell_type": "code",
   "execution_count": 17,
   "id": "77056d5d-6583-4cbf-a368-7ba0c0a3207a",
   "metadata": {},
   "outputs": [],
   "source": [
    "# 3. Create a Numpy array with values ranging from 10 to 49."
   ]
  },
  {
   "cell_type": "code",
   "execution_count": 21,
   "id": "161423f4-40c9-4fb2-931e-326c0eecd17e",
   "metadata": {},
   "outputs": [
    {
     "name": "stdout",
     "output_type": "stream",
     "text": [
      "[10 11 12 13 14 15 16 17 18 19 20 21 22 23 24 25 26 27 28 29 30 31 32 33\n",
      " 34 35 36 37 38 39 40 41 42 43 44 45 46 47 48 49]\n"
     ]
    }
   ],
   "source": [
    "my1darray = np.array(np.arange(10,50))\n",
    "print(my1darray)"
   ]
  },
  {
   "cell_type": "code",
   "execution_count": 23,
   "id": "a13e1f68-23c7-4025-afca-f7d47388b148",
   "metadata": {},
   "outputs": [],
   "source": [
    "# 4. Create a 2D Numpy array and change the data type to float."
   ]
  },
  {
   "cell_type": "code",
   "execution_count": 29,
   "id": "7901db2a-919f-4d72-909f-a4285ba27fee",
   "metadata": {},
   "outputs": [
    {
     "name": "stdout",
     "output_type": "stream",
     "text": [
      "[[1. 2.]\n",
      " [3. 4.]]\n",
      "Dimension is 2\n"
     ]
    }
   ],
   "source": [
    "my2darray = np.arange(1,5, dtype=float).reshape(2,2)\n",
    "print(my2darray)\n",
    "print(\"Dimension is\",my2darray.ndim)"
   ]
  },
  {
   "cell_type": "code",
   "execution_count": 31,
   "id": "310518b6-4213-4680-ba20-7975495113d5",
   "metadata": {},
   "outputs": [],
   "source": [
    "# 5. Create a 4x4 identity matrix."
   ]
  },
  {
   "cell_type": "code",
   "execution_count": 39,
   "id": "72474321-c214-4c03-8c5a-8504506a8e5e",
   "metadata": {},
   "outputs": [
    {
     "name": "stdout",
     "output_type": "stream",
     "text": [
      "4X4 identity matrix is \n",
      "[[1. 0. 0. 0.]\n",
      " [0. 1. 0. 0.]\n",
      " [0. 0. 1. 0.]\n",
      " [0. 0. 0. 1.]]\n"
     ]
    }
   ],
   "source": [
    "my4identity = np.identity(4)\n",
    "print(\"4X4 identity matrix is \", my4identity,sep=\"\\n\")"
   ]
  },
  {
   "cell_type": "code",
   "execution_count": 43,
   "id": "e93d01e2-4221-48be-83d5-0586ee6f5c76",
   "metadata": {
    "scrolled": true
   },
   "outputs": [
    {
     "name": "stdout",
     "output_type": "stream",
     "text": [
      "[1.         1.44444444 1.88888889 2.33333333 2.77777778 3.22222222\n",
      " 3.66666667 4.11111111 4.55555556 5.        ]\n"
     ]
    }
   ],
   "source": [
    "# 6. Create a Numpy array with 10 values evenly spaced between 1 and 5.\n",
    "mylinspace = np.linspace(1,5,10)\n",
    "print(mylinspace)"
   ]
  },
  {
   "cell_type": "code",
   "execution_count": 45,
   "id": "a8231167-eb82-41cb-afd7-d1c748817f33",
   "metadata": {},
   "outputs": [],
   "source": [
    "# 7. Create a 3x3 Numpy array with random values."
   ]
  },
  {
   "cell_type": "code",
   "execution_count": 55,
   "id": "18f21f11-c230-4ae3-a461-6fe438415b6c",
   "metadata": {},
   "outputs": [
    {
     "name": "stdout",
     "output_type": "stream",
     "text": [
      "[[0.30523243 0.08382434 0.95251961]\n",
      " [0.68640365 0.22700558 0.69736724]\n",
      " [0.06680595 0.80093891 0.27625953]]\n"
     ]
    }
   ],
   "source": [
    "myrand = np.random.random(size=9).reshape(3,3)\n",
    "print(myrand)"
   ]
  },
  {
   "cell_type": "code",
   "execution_count": 57,
   "id": "200e370c-57ea-485b-95d6-ee9aa34b3ee4",
   "metadata": {},
   "outputs": [],
   "source": [
    "# 8. Create a Numpy array with 20 random values and reshape it to a 4x5 array."
   ]
  },
  {
   "cell_type": "code",
   "execution_count": 59,
   "id": "ad5e82b5-02a2-47bb-9cb8-708a6f5a1cda",
   "metadata": {},
   "outputs": [
    {
     "name": "stdout",
     "output_type": "stream",
     "text": [
      "[[0.90105847 0.8329016  0.43508026 0.58971537 0.40166966]\n",
      " [0.31312369 0.4324101  0.64790497 0.32735402 0.59796829]\n",
      " [0.87664035 0.19310911 0.13838942 0.71931103 0.80192156]\n",
      " [0.218671   0.41337373 0.38399818 0.97156389 0.35950275]]\n"
     ]
    }
   ],
   "source": [
    "myrand1 = np.random.random(size=20).reshape(4,5)\n",
    "print(myrand1)"
   ]
  },
  {
   "cell_type": "code",
   "execution_count": 61,
   "id": "e445e0ca-e171-405f-a16d-9fe09b02a886",
   "metadata": {},
   "outputs": [],
   "source": [
    "# 9. Create an array of shape (3, 3) and extract the values of the second row."
   ]
  },
  {
   "cell_type": "code",
   "execution_count": 69,
   "id": "cc97e7f7-2ae8-4627-b524-bb06b30eb91b",
   "metadata": {},
   "outputs": [
    {
     "name": "stdout",
     "output_type": "stream",
     "text": [
      "Full array\n",
      "[[1 2 3]\n",
      " [4 5 6]\n",
      " [7 8 9]]\n",
      "the second row values are \n",
      "[4 5 6]\n"
     ]
    }
   ],
   "source": [
    "mysecondrow = np.array([1,2,3,4,5,6,7,8,9]).reshape(3,3)\n",
    "print(\"Full array\",mysecondrow,sep=\"\\n\")\n",
    "print(\"the second row values are \",mysecondrow[1],sep=\"\\n\")"
   ]
  },
  {
   "cell_type": "code",
   "execution_count": 71,
   "id": "4f0f31ed-f252-4919-a24b-67d72307968a",
   "metadata": {},
   "outputs": [],
   "source": [
    "# 10. Create a 5x5 matrix with values 1 to 25 and extract the element in the third row and fourth column."
   ]
  },
  {
   "cell_type": "code",
   "execution_count": 81,
   "id": "4b14c97c-479c-491f-84cd-b125cbad899e",
   "metadata": {},
   "outputs": [
    {
     "name": "stdout",
     "output_type": "stream",
     "text": [
      "Original array is \n",
      "[[ 1  2  3  4  5]\n",
      " [ 6  7  8  9 10]\n",
      " [11 12 13 14 15]\n",
      " [16 17 18 19 20]\n",
      " [21 22 23 24 25]]\n",
      "3rd row and 4th column value is \n",
      "14\n"
     ]
    }
   ],
   "source": [
    "my5matrix = np.arange(1,26).reshape(5,5)\n",
    "print(\"Original array is \",my5matrix,sep=\"\\n\")\n",
    "print(\"3rd row and 4th column value is \",my5matrix[2,3],sep=\"\\n\")"
   ]
  },
  {
   "cell_type": "code",
   "execution_count": 83,
   "id": "634746db-af18-4827-9dc6-e20b04025987",
   "metadata": {},
   "outputs": [],
   "source": [
    "# 11. Find the shape, size, and data type of a given Numpy array."
   ]
  },
  {
   "cell_type": "code",
   "execution_count": 87,
   "id": "a8247f86-b19b-4fec-85c9-af019dea5ab1",
   "metadata": {},
   "outputs": [
    {
     "name": "stdout",
     "output_type": "stream",
     "text": [
      "array is \n",
      "[[1. 2.]\n",
      " [3. 4.]]\n",
      "shape is \n",
      "(2, 2)\n",
      "size is \n",
      "4\n",
      "dtype is \n",
      "float64\n"
     ]
    }
   ],
   "source": [
    "print(\"array is \",my2darray,sep=\"\\n\")\n",
    "print(\"shape is \",my2darray.shape,sep=\"\\n\")\n",
    "print(\"size is \",my2darray.size,sep=\"\\n\")\n",
    "print(\"dtype is \",my2darray.dtype,sep=\"\\n\")"
   ]
  },
  {
   "cell_type": "code",
   "execution_count": 89,
   "id": "324f5c99-99fb-4814-ba8c-df9408adce9e",
   "metadata": {},
   "outputs": [],
   "source": [
    "# 12. Flatten a given 2D Numpy array."
   ]
  },
  {
   "cell_type": "code",
   "execution_count": 109,
   "id": "9a1d688d-11a6-4da7-92c1-f11f7b1c0f51",
   "metadata": {},
   "outputs": [
    {
     "name": "stdout",
     "output_type": "stream",
     "text": [
      "array is \n",
      "[[1. 2.]\n",
      " [3. 4.]]\n",
      "Flatten 2 d array is \n",
      "[[1. 2. 3. 4.]]\n",
      "Anothr method of Flatten 2 d array is \n",
      "[1. 2. 3. 4.]\n"
     ]
    }
   ],
   "source": [
    "print(\"array is \",my2darray,sep=\"\\n\")\n",
    "print(\"Flatten 2 d array is \",my2darray.reshape(1,4),sep=\"\\n\")\n",
    "#or\n",
    "print(\"Anothr method of Flatten 2 d array is \",my2darray.flatten(),sep=\"\\n\")"
   ]
  },
  {
   "cell_type": "code",
   "execution_count": 95,
   "id": "9b65f400-cca3-4d8c-b27e-e215be074697",
   "metadata": {},
   "outputs": [],
   "source": [
    "# 13. Concatenate two Numpy arrays along the second axis."
   ]
  },
  {
   "cell_type": "code",
   "execution_count": 103,
   "id": "6d7202c8-9b5b-414a-b1f2-5985b33b30ea",
   "metadata": {},
   "outputs": [
    {
     "data": {
      "text/plain": [
       "array([[1., 2., 1., 2.],\n",
       "       [3., 4., 3., 4.]])"
      ]
     },
     "execution_count": 103,
     "metadata": {},
     "output_type": "execute_result"
    }
   ],
   "source": [
    "np.concatenate((my2darray,my2darray),axis=1)"
   ]
  },
  {
   "cell_type": "code",
   "execution_count": 111,
   "id": "32cc74d5-ee25-40c5-af09-78bf4a04daec",
   "metadata": {},
   "outputs": [],
   "source": [
    "#14. Split a given Numpy array into 3 equal-sized sub-arrays."
   ]
  },
  {
   "cell_type": "code",
   "execution_count": 131,
   "id": "485bad25-dc35-400f-9e6b-7a3dc815f599",
   "metadata": {},
   "outputs": [
    {
     "name": "stdout",
     "output_type": "stream",
     "text": [
      "Original array\n",
      "[[ 1  2  3]\n",
      " [ 4  5  6]\n",
      " [ 7  8  9]\n",
      " [10 11 12]\n",
      " [13 14 15]\n",
      " [16 17 18]\n",
      " [19 20 21]\n",
      " [22 23 24]\n",
      " [25 26 27]]\n"
     ]
    }
   ],
   "source": [
    "my9array = np.arange(1,28).reshape(9,3)\n",
    "print(\"Original array\",my9array,sep=\"\\n\")"
   ]
  },
  {
   "cell_type": "code",
   "execution_count": 133,
   "id": "8e0acb5e-1e9b-4c81-90d9-515cdf0a91b0",
   "metadata": {},
   "outputs": [
    {
     "name": "stdout",
     "output_type": "stream",
     "text": [
      "My first split\n",
      "[[1 2 3]\n",
      " [4 5 6]\n",
      " [7 8 9]]\n",
      "My second split\n",
      "[[10 11 12]\n",
      " [13 14 15]\n",
      " [16 17 18]]\n",
      "My last split\n",
      "[[19 20 21]\n",
      " [22 23 24]\n",
      " [25 26 27]]\n"
     ]
    }
   ],
   "source": [
    "mysplit,mysplit1,mysplit2 = np.split(my9array,3)\n",
    "print(\"My first split\",mysplit,sep=\"\\n\")\n",
    "print(\"My second split\",mysplit1,sep=\"\\n\")\n",
    "print(\"My last split\",mysplit2,sep=\"\\n\")"
   ]
  },
  {
   "cell_type": "code",
   "execution_count": 135,
   "id": "7352913e-cc17-465a-82a5-c8ff4619d5e9",
   "metadata": {},
   "outputs": [],
   "source": [
    "#15. Create a Numpy array with 10 random integers between 1 and 100, and find the maximum and minimum values.\n"
   ]
  },
  {
   "cell_type": "code",
   "execution_count": 141,
   "id": "243f958e-5728-4618-8e50-edf927bc6fe1",
   "metadata": {},
   "outputs": [
    {
     "data": {
      "text/plain": [
       "array([53.28703069, 53.01081056, 74.32561813, 69.27437022, 29.82357393,\n",
       "       47.24840605, 21.91419294, 66.73668144, 15.05709878, 91.28095498,\n",
       "       36.85051403, 61.93586634, 12.58277393,  8.54005569, 89.2196109 ,\n",
       "       37.32122121, 33.4744667 ,  2.55845783, 74.25023574, 19.85919127,\n",
       "       74.24411044, 26.77534486, 14.22328806, 38.47880964, 88.99311493,\n",
       "       43.52645425, 88.37772686, 86.91584678, 45.47588984, 82.34658068,\n",
       "        8.81370445, 87.09598592,  9.23722478, 14.51493946,  5.44954756,\n",
       "       67.49121762, 23.70700773, 82.28388742, 74.37182128, 51.56283688,\n",
       "       81.41763337, 92.91428103, 22.08987061, 72.7011443 , 11.07119237,\n",
       "       25.98549228, 52.85483283, 10.95052204, 64.11335393,  0.76996967,\n",
       "        8.62214625, 97.16100008, 69.27028935, 54.58044462,  4.30282998,\n",
       "       55.80051792, 87.3375476 , 79.89734455,  8.17918374, 73.60679814,\n",
       "       59.11584595, 25.2811028 , 21.15751248, 20.66118367, 65.23551629,\n",
       "       92.25671189, 85.52394418, 45.26428243, 82.65987212, 18.85641894,\n",
       "       23.13246741,  3.06033072, 80.42159657, 11.69295114, 89.9626352 ,\n",
       "       83.95241326, 65.20140559, 77.30407089, 11.75898452, 88.9216729 ,\n",
       "       65.92788111, 94.89082941, 98.13525156, 56.21454218, 44.29371613,\n",
       "       24.19908435, 25.95277869, 62.6906674 , 46.66434257, 28.1216446 ,\n",
       "       83.22691226, 72.35170357, 32.29050645, 89.01606994, 54.23351733,\n",
       "       50.88137704,  1.9708468 , 55.47588706, 44.33579211, 44.44715838])"
      ]
     },
     "execution_count": 141,
     "metadata": {},
     "output_type": "execute_result"
    }
   ],
   "source": [
    "np.random.random(100)*100"
   ]
  },
  {
   "cell_type": "code",
   "execution_count": 151,
   "id": "787d8fed-415d-4c2e-8214-d8a05e9955b7",
   "metadata": {},
   "outputs": [
    {
     "name": "stdout",
     "output_type": "stream",
     "text": [
      "Maximum numer from array is \n",
      "97.75405824558588\n",
      "Minimum numer from array is \n",
      "2.5469462686773636\n"
     ]
    }
   ],
   "source": [
    "print(\"Maximum numer from array is \",np.max(np.random.random(100)*100),sep=\"\\n\")\n",
    "print(\"Minimum numer from array is \",np.min(np.random.random(100)*100),sep=\"\\n\")"
   ]
  },
  {
   "cell_type": "code",
   "execution_count": 153,
   "id": "ba5db7ff-0432-4710-b4a7-6ec436b9dcc3",
   "metadata": {},
   "outputs": [],
   "source": [
    "#16. Create a Numpy array with random values and replace all values greater than 0.5 with 1.\n"
   ]
  },
  {
   "cell_type": "code",
   "execution_count": 181,
   "id": "0f59c00d-f8cb-4438-8914-7548fa088f03",
   "metadata": {},
   "outputs": [
    {
     "name": "stdout",
     "output_type": "stream",
     "text": [
      "Original array is \n",
      "[[0.60310809 0.10773725]\n",
      " [0.75847333 0.05126247]\n",
      " [0.52801734 0.71466936]\n",
      " [0.64385785 0.63006216]\n",
      " [0.89461262 0.36329718]]\n",
      "Array replaces with 1\n",
      "[[1.         0.10773725]\n",
      " [1.         0.05126247]\n",
      " [1.         1.        ]\n",
      " [1.         1.        ]\n",
      " [1.         0.36329718]]\n"
     ]
    }
   ],
   "source": [
    "myarray = np.random.random(10).reshape(5,2)\n",
    "print(\"Original array is \",myarray,sep=\"\\n\")\n",
    "myarray[myarray>.5] = 1\n",
    "print(\"Array replaces with 1\",myarray,sep=\"\\n\")"
   ]
  },
  {
   "cell_type": "code",
   "execution_count": 183,
   "id": "91860ae4-ec6a-45ab-8efd-8eb752f0ea34",
   "metadata": {},
   "outputs": [],
   "source": [
    "#17. Multiply two given Numpy arrays element-wise."
   ]
  },
  {
   "cell_type": "code",
   "execution_count": 185,
   "id": "b722fbc9-a96c-4d05-82f7-34b6085562ca",
   "metadata": {},
   "outputs": [
    {
     "name": "stdout",
     "output_type": "stream",
     "text": [
      "[[1 2 3]\n",
      " [4 5 6]\n",
      " [7 8 9]]\n",
      "[[10 11 12]\n",
      " [13 14 15]\n",
      " [16 17 18]]\n"
     ]
    }
   ],
   "source": [
    "print(mysplit)\n",
    "print(mysplit1)\n"
   ]
  },
  {
   "cell_type": "code",
   "execution_count": 187,
   "id": "f58e8e50-a34b-47ec-82e5-b2eaf37a78d6",
   "metadata": {},
   "outputs": [
    {
     "name": "stdout",
     "output_type": "stream",
     "text": [
      "[[ 10  22  36]\n",
      " [ 52  70  90]\n",
      " [112 136 162]]\n"
     ]
    }
   ],
   "source": [
    "print(mysplit * mysplit1)"
   ]
  },
  {
   "cell_type": "code",
   "execution_count": 217,
   "id": "47a8ff49-385d-454c-ad36-7fe760355328",
   "metadata": {},
   "outputs": [
    {
     "data": {
      "text/plain": [
       "array([[ 10,  22,  36],\n",
       "       [ 52,  70,  90],\n",
       "       [112, 136, 162]])"
      ]
     },
     "execution_count": 217,
     "metadata": {},
     "output_type": "execute_result"
    }
   ],
   "source": [
    "# another method\n",
    "np.multiply(mysplit,mysplit1)"
   ]
  },
  {
   "cell_type": "code",
   "execution_count": 189,
   "id": "4cc473cf-1015-4dc7-96a2-1808ba43f83b",
   "metadata": {},
   "outputs": [],
   "source": [
    "# 18. Compute the dot product of two given Numpy arrays."
   ]
  },
  {
   "cell_type": "code",
   "execution_count": 201,
   "id": "876cb930-b0a7-40b9-b69d-d745a479443b",
   "metadata": {},
   "outputs": [
    {
     "data": {
      "text/plain": [
       "array([[1],\n",
       "       [2],\n",
       "       [3],\n",
       "       [4]])"
      ]
     },
     "execution_count": 201,
     "metadata": {},
     "output_type": "execute_result"
    }
   ],
   "source": [
    "np.array([1,2,3,4])\n"
   ]
  },
  {
   "cell_type": "code",
   "execution_count": 203,
   "id": "310cc3d3-c7bb-4142-a344-53826e6f5443",
   "metadata": {},
   "outputs": [
    {
     "data": {
      "text/plain": [
       "array([[1],\n",
       "       [2],\n",
       "       [3],\n",
       "       [4]])"
      ]
     },
     "execution_count": 203,
     "metadata": {},
     "output_type": "execute_result"
    }
   ],
   "source": [
    "np.array([1,2,3,4]).reshape(4,1)"
   ]
  },
  {
   "cell_type": "code",
   "execution_count": 233,
   "id": "fc9722c0-203b-49b5-8239-85583fd05708",
   "metadata": {},
   "outputs": [
    {
     "data": {
      "text/plain": [
       "array([30])"
      ]
     },
     "execution_count": 233,
     "metadata": {},
     "output_type": "execute_result"
    }
   ],
   "source": [
    "# another method\n",
    "np.dot(np.array([1,2,3,4]),np.array([1,2,3,4]).reshape(4,1))"
   ]
  },
  {
   "cell_type": "code",
   "execution_count": 207,
   "id": "50a44b58-413c-42cf-b3ed-ad6f71f24512",
   "metadata": {},
   "outputs": [],
   "source": [
    "# 19. Add a scalar value to a given Numpy array."
   ]
  },
  {
   "cell_type": "code",
   "execution_count": 239,
   "id": "ed92178a-1d5c-4256-9e4e-803ade422cee",
   "metadata": {},
   "outputs": [
    {
     "name": "stdout",
     "output_type": "stream",
     "text": [
      "Original array is \n",
      "[[1 2 3]\n",
      " [4 5 6]\n",
      " [7 8 9]]\n",
      "Adding scalar 5 to it\n",
      "[[ 6  7  8]\n",
      " [ 9 10 11]\n",
      " [12 13 14]]\n"
     ]
    }
   ],
   "source": [
    "print(\"Original array is \",mysplit,sep=\"\\n\")\n",
    "print(\"Adding scalar 5 to it\",mysplit + 5,sep=\"\\n\")"
   ]
  },
  {
   "cell_type": "code",
   "execution_count": 209,
   "id": "f4119142-cff4-47a4-8c65-4227e1a095b4",
   "metadata": {},
   "outputs": [],
   "source": [
    "#20. Subtract one Numpy array from another."
   ]
  },
  {
   "cell_type": "code",
   "execution_count": 237,
   "id": "174e924d-4aa9-41a1-b64e-c7f1bd366aa7",
   "metadata": {},
   "outputs": [
    {
     "name": "stdout",
     "output_type": "stream",
     "text": [
      "[[1 2 3]\n",
      " [4 5 6]\n",
      " [7 8 9]]\n",
      "[[10 11 12]\n",
      " [13 14 15]\n",
      " [16 17 18]]\n",
      "Subtracted array is \n",
      "[[9 9 9]\n",
      " [9 9 9]\n",
      " [9 9 9]]\n"
     ]
    }
   ],
   "source": [
    "print(mysplit)\n",
    "print(mysplit1)\n",
    "print(\"Subtracted array is \",mysplit1 - mysplit,sep=\"\\n\")"
   ]
  },
  {
   "cell_type": "code",
   "execution_count": 2,
   "id": "40857665-1e1d-48a4-a5ba-d872b493bd12",
   "metadata": {},
   "outputs": [],
   "source": [
    "# 21. Find the mean, median, and standard deviation of a given Numpy array."
   ]
  },
  {
   "cell_type": "code",
   "execution_count": 8,
   "id": "3ab0539a",
   "metadata": {},
   "outputs": [
    {
     "name": "stdout",
     "output_type": "stream",
     "text": [
      "Mean is  4.5\n",
      "Meadian is  4.5\n",
      "Standard Deviation is  2.8722813232690143\n"
     ]
    }
   ],
   "source": [
    "print(\"Mean is \",np.mean(my1darray))\n",
    "print(\"Meadian is \",np.median(my1darray))\n",
    "print(\"Standard Deviation is \",np.std(my1darray))"
   ]
  },
  {
   "cell_type": "code",
   "execution_count": 5,
   "id": "37ac5b74",
   "metadata": {},
   "outputs": [
    {
     "data": {
      "text/plain": [
       "array([0, 1, 2, 3, 4, 5, 6, 7, 8, 9])"
      ]
     },
     "execution_count": 5,
     "metadata": {},
     "output_type": "execute_result"
    }
   ],
   "source": [
    "my1darray"
   ]
  },
  {
   "cell_type": "code",
   "execution_count": 6,
   "id": "9857e7b0",
   "metadata": {},
   "outputs": [
    {
     "data": {
      "text/plain": [
       "np.int64(45)"
      ]
     },
     "execution_count": 6,
     "metadata": {},
     "output_type": "execute_result"
    }
   ],
   "source": [
    "np.sum(my1darray)"
   ]
  },
  {
   "cell_type": "code",
   "execution_count": 10,
   "id": "8a2c263e",
   "metadata": {},
   "outputs": [],
   "source": [
    "#22. Sort a given Numpy array along the first axis."
   ]
  },
  {
   "cell_type": "code",
   "execution_count": 14,
   "id": "d4088c8c",
   "metadata": {},
   "outputs": [
    {
     "data": {
      "text/plain": [
       "array([[0.17383467, 0.50734516, 0.35506127],\n",
       "       [0.83402801, 0.8583105 , 0.42536646],\n",
       "       [0.27413606, 0.64255899, 0.25066982]])"
      ]
     },
     "execution_count": 14,
     "metadata": {},
     "output_type": "execute_result"
    }
   ],
   "source": [
    "myrandom_mat = np.random.random(9).reshape(3,3)\n",
    "myrandom_mat"
   ]
  },
  {
   "cell_type": "code",
   "execution_count": 17,
   "id": "34601c67",
   "metadata": {},
   "outputs": [
    {
     "data": {
      "text/plain": [
       "array([[0.17383467, 0.50734516, 0.25066982],\n",
       "       [0.27413606, 0.64255899, 0.35506127],\n",
       "       [0.83402801, 0.8583105 , 0.42536646]])"
      ]
     },
     "execution_count": 17,
     "metadata": {},
     "output_type": "execute_result"
    }
   ],
   "source": [
    "np.sort(myrandom_mat,axis=0)"
   ]
  },
  {
   "cell_type": "code",
   "execution_count": 19,
   "id": "fb353896",
   "metadata": {},
   "outputs": [
    {
     "data": {
      "text/plain": [
       "array([1, 2, 3, 4, 5, 6, 7])"
      ]
     },
     "execution_count": 19,
     "metadata": {},
     "output_type": "execute_result"
    }
   ],
   "source": [
    "# 23. Find the unique elements of a given Numpy array.\n",
    "np.array([1,2,3,1,2,3,4,5,5,6,6,7,7])\n",
    "np.unique(np.array([1,2,3,1,2,3,4,5,5,6,6,7,7]))"
   ]
  },
  {
   "cell_type": "code",
   "execution_count": 20,
   "id": "e959bcdd",
   "metadata": {},
   "outputs": [],
   "source": [
    "# 24. Check if a given Numpy array contains any NaN values.\n"
   ]
  },
  {
   "cell_type": "code",
   "execution_count": 22,
   "id": "37e14627",
   "metadata": {},
   "outputs": [
    {
     "data": {
      "text/plain": [
       "array([[0.08645042, 0.64537145],\n",
       "       [0.23427316, 0.29400096],\n",
       "       [0.17528515, 0.51418565],\n",
       "       [0.39404879, 0.10422382],\n",
       "       [0.26968589, 0.23793529]])"
      ]
     },
     "execution_count": 22,
     "metadata": {},
     "output_type": "execute_result"
    }
   ],
   "source": [
    "myarray = np.random.random(10).reshape(5,2)\n",
    "myarray"
   ]
  },
  {
   "cell_type": "code",
   "execution_count": 23,
   "id": "d3463476",
   "metadata": {},
   "outputs": [
    {
     "data": {
      "text/plain": [
       "array([[0.08645042,        nan],\n",
       "       [0.23427316, 0.29400096],\n",
       "       [0.17528515,        nan],\n",
       "       [       nan, 0.10422382],\n",
       "       [0.26968589, 0.23793529]])"
      ]
     },
     "execution_count": 23,
     "metadata": {},
     "output_type": "execute_result"
    }
   ],
   "source": [
    "myarray[myarray > .30] = np.nan\n",
    "myarray"
   ]
  },
  {
   "cell_type": "code",
   "execution_count": 26,
   "id": "6c381263",
   "metadata": {},
   "outputs": [
    {
     "data": {
      "text/plain": [
       "np.True_"
      ]
     },
     "execution_count": 26,
     "metadata": {},
     "output_type": "execute_result"
    }
   ],
   "source": [
    "np.isnan(myarray).any()"
   ]
  },
  {
   "cell_type": "code",
   "execution_count": 27,
   "id": "c8869de1",
   "metadata": {},
   "outputs": [],
   "source": [
    "# 25. Create a 5x5 matrix and pad it with zeros along the border."
   ]
  },
  {
   "cell_type": "code",
   "execution_count": 28,
   "id": "238f39ae",
   "metadata": {},
   "outputs": [
    {
     "data": {
      "text/plain": [
       "array([[ 0,  0,  0,  0,  0,  0,  0],\n",
       "       [ 0,  1,  2,  3,  4,  5,  0],\n",
       "       [ 0,  6,  7,  8,  9, 10,  0],\n",
       "       [ 0, 11, 12, 13, 14, 15,  0],\n",
       "       [ 0, 16, 17, 18, 19, 20,  0],\n",
       "       [ 0, 21, 22, 23, 24, 25,  0],\n",
       "       [ 0,  0,  0,  0,  0,  0,  0]])"
      ]
     },
     "execution_count": 28,
     "metadata": {},
     "output_type": "execute_result"
    }
   ],
   "source": [
    "np.pad(np.arange(1,26).reshape(5,5),pad_width=1,constant_values=0)"
   ]
  },
  {
   "cell_type": "code",
   "execution_count": 29,
   "id": "ad447182",
   "metadata": {},
   "outputs": [],
   "source": [
    "# 26. Transpose a given Numpy array."
   ]
  },
  {
   "cell_type": "code",
   "execution_count": 36,
   "id": "22f435f9",
   "metadata": {},
   "outputs": [
    {
     "name": "stdout",
     "output_type": "stream",
     "text": [
      "Before Transpose\n",
      "[[0.08645042        nan]\n",
      " [0.23427316 0.29400096]\n",
      " [0.17528515        nan]\n",
      " [       nan 0.10422382]\n",
      " [0.26968589 0.23793529]]\n",
      "After transpose \n",
      "[[0.08645042 0.23427316 0.17528515        nan 0.26968589]\n",
      " [       nan 0.29400096        nan 0.10422382 0.23793529]]\n"
     ]
    }
   ],
   "source": [
    "print(\"Before Transpose\",myarray,sep='\\n')\n",
    "print(\"After transpose \",myarray.T,sep='\\n')"
   ]
  },
  {
   "cell_type": "code",
   "execution_count": 37,
   "id": "e351bb78",
   "metadata": {},
   "outputs": [],
   "source": [
    "# 27. Reverse the rows of a given 2D Numpy array."
   ]
  },
  {
   "cell_type": "code",
   "execution_count": 43,
   "id": "d820d6c9",
   "metadata": {},
   "outputs": [
    {
     "name": "stdout",
     "output_type": "stream",
     "text": [
      "Before reversal\n",
      "[[0.08645042        nan]\n",
      " [0.23427316 0.29400096]\n",
      " [0.17528515        nan]\n",
      " [       nan 0.10422382]\n",
      " [0.26968589 0.23793529]]\n"
     ]
    },
    {
     "data": {
      "text/plain": [
       "array([[       nan, 0.08645042],\n",
       "       [0.29400096, 0.23427316],\n",
       "       [       nan, 0.17528515],\n",
       "       [0.10422382,        nan],\n",
       "       [0.23793529, 0.26968589]])"
      ]
     },
     "execution_count": 43,
     "metadata": {},
     "output_type": "execute_result"
    }
   ],
   "source": [
    "print(\"Before reversal\", myarray,sep='\\n')\n",
    "myarray[:,::-1]"
   ]
  },
  {
   "cell_type": "code",
   "execution_count": 58,
   "id": "a37192c5",
   "metadata": {},
   "outputs": [
    {
     "name": "stdout",
     "output_type": "stream",
     "text": [
      "[[1 2 3]\n",
      " [4 5 6]\n",
      " [7 8 9]]\n",
      "Cumulative sum of entire array\n",
      "[ 1  3  6 10 15 21 28 36 45]\n",
      "Cumulative sum of along row array\n",
      "[[ 1  3  6]\n",
      " [ 4  9 15]\n",
      " [ 7 15 24]]\n",
      "Cumulative sum of along columns array\n",
      "[[ 1  2  3]\n",
      " [ 5  7  9]\n",
      " [12 15 18]]\n"
     ]
    }
   ],
   "source": [
    "# 28. Compute the cumulative sum of a given Numpy array.\n",
    "mytest = np.arange(1,10).reshape(3,3)\n",
    "print(mytest)\n",
    "print(\"Cumulative sum of entire array\")\n",
    "print(np.cumsum(mytest))\n",
    "print(\"Cumulative sum of along row array\")\n",
    "print(np.cumsum(mytest,axis=1))\n",
    "print(\"Cumulative sum of along columns array\")\n",
    "print(np.cumsum(mytest,axis=0))"
   ]
  },
  {
   "cell_type": "code",
   "execution_count": 62,
   "id": "68c8aa5f",
   "metadata": {},
   "outputs": [
    {
     "name": "stdout",
     "output_type": "stream",
     "text": [
      "[[1 2 3]\n",
      " [4 5 6]\n",
      " [7 8 9]]\n",
      "normalized array is [[0.    0.125 0.25 ]\n",
      " [0.375 0.5   0.625]\n",
      " [0.75  0.875 1.   ]]\n"
     ]
    }
   ],
   "source": [
    "# 29. Normalize a given Numpy array.\n",
    "print(mytest)\n",
    "\n",
    "normalized = (mytest - np.min(mytest)) / ( np.max(mytest) - np.min(mytest)) \n",
    "print(\"normalized array is\",normalized)"
   ]
  },
  {
   "cell_type": "code",
   "execution_count": 46,
   "id": "b439b078",
   "metadata": {},
   "outputs": [],
   "source": [
    "# 30. Reshape a given Numpy array to have 1 row and multiple columns."
   ]
  },
  {
   "cell_type": "code",
   "execution_count": 50,
   "id": "4b34e464",
   "metadata": {},
   "outputs": [
    {
     "data": {
      "text/plain": [
       "array([[1, 2, 3],\n",
       "       [4, 5, 6],\n",
       "       [7, 8, 9]])"
      ]
     },
     "execution_count": 50,
     "metadata": {},
     "output_type": "execute_result"
    }
   ],
   "source": [
    "mytest = np.arange(1,10).reshape(3,3)\n",
    "mytest"
   ]
  },
  {
   "cell_type": "code",
   "execution_count": 51,
   "id": "ff562465",
   "metadata": {},
   "outputs": [
    {
     "data": {
      "text/plain": [
       "array([[1, 2, 3, 4, 5, 6, 7, 8, 9]])"
      ]
     },
     "execution_count": 51,
     "metadata": {},
     "output_type": "execute_result"
    }
   ],
   "source": [
    "mytest.reshape(1,9)"
   ]
  },
  {
   "cell_type": "code",
   "execution_count": 53,
   "id": "5e2f72d9",
   "metadata": {},
   "outputs": [
    {
     "data": {
      "text/plain": [
       "array([[1, 2, 3, 4, 5, 6, 7, 8, 9]])"
      ]
     },
     "execution_count": 53,
     "metadata": {},
     "output_type": "execute_result"
    }
   ],
   "source": [
    "mytest.reshape(1,-1)"
   ]
  },
  {
   "cell_type": "code",
   "execution_count": null,
   "id": "a14a55aa",
   "metadata": {},
   "outputs": [],
   "source": []
  }
 ],
 "metadata": {
  "kernelspec": {
   "display_name": "Python 3 (ipykernel)",
   "language": "python",
   "name": "python3"
  },
  "language_info": {
   "codemirror_mode": {
    "name": "ipython",
    "version": 3
   },
   "file_extension": ".py",
   "mimetype": "text/x-python",
   "name": "python",
   "nbconvert_exporter": "python",
   "pygments_lexer": "ipython3",
   "version": "3.12.0"
  }
 },
 "nbformat": 4,
 "nbformat_minor": 5
}
